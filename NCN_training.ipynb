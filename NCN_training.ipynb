{
 "cells": [
  {
   "cell_type": "code",
   "execution_count": 1,
   "metadata": {},
   "outputs": [],
   "source": [
    "from ncn.model import *\n",
    "from ncn.training import *"
   ]
  },
  {
   "cell_type": "code",
   "execution_count": 2,
   "metadata": {},
   "outputs": [],
   "source": [
    "random.seed(SEED)\n",
    "torch.manual_seed(SEED)\n",
    "torch.backends.cudnn.deterministic = True"
   ]
  },
  {
   "cell_type": "code",
   "execution_count": 3,
   "metadata": {},
   "outputs": [
    {
     "name": "stderr",
     "output_type": "stream",
     "text": [
      "INFO:neural_citation.data:Getting fields...\n",
      "INFO:neural_citation.data:Loading dataset...\n",
      "INFO:neural_citation.data:Building vocab...\n"
     ]
    }
   ],
   "source": [
    "# set up training\n",
    "data = get_bucketized_iterators(\"/home/jupyter/tutorials/seminar_kd/arxiv_data.csv\")\n",
    "PAD_IDX = data.ttl.vocab.stoi['<pad>']\n",
    "cntxt_vocab_len = len(data.cntxt.vocab)\n",
    "aut_vocab_len = len(data.aut.vocab)\n",
    "ttl_vocab_len = len(data.ttl.vocab)"
   ]
  },
  {
   "cell_type": "code",
   "execution_count": 6,
   "metadata": {},
   "outputs": [
    {
     "data": {
      "text/plain": [
       "NeuralCitationNetwork(\n",
       "  (encoder): NCNEncoder(\n",
       "    (dropout): Dropout(p=0.2)\n",
       "    (context_embedding): Embedding(30002, 128, padding_idx=1)\n",
       "    (context_encoder): TDNNEncoder(\n",
       "      (encoder): ModuleList(\n",
       "        (0): TDNN(\n",
       "          (conv): Conv2d(1, 128, kernel_size=(128, 4), stride=(1, 1), bias=False)\n",
       "          (bn): BatchNorm2d(128, eps=1e-05, momentum=0.1, affine=True, track_running_stats=True)\n",
       "        )\n",
       "        (1): TDNN(\n",
       "          (conv): Conv2d(1, 128, kernel_size=(128, 4), stride=(1, 1), bias=False)\n",
       "          (bn): BatchNorm2d(128, eps=1e-05, momentum=0.1, affine=True, track_running_stats=True)\n",
       "        )\n",
       "        (2): TDNN(\n",
       "          (conv): Conv2d(1, 128, kernel_size=(128, 5), stride=(1, 1), bias=False)\n",
       "          (bn): BatchNorm2d(128, eps=1e-05, momentum=0.1, affine=True, track_running_stats=True)\n",
       "        )\n",
       "      )\n",
       "      (fc): Linear(in_features=384, out_features=384, bias=True)\n",
       "      (bn): BatchNorm1d(384, eps=1e-05, momentum=0.1, affine=True, track_running_stats=True)\n",
       "    )\n",
       "    (author_embedding): Embedding(30002, 128, padding_idx=1)\n",
       "    (citing_author_encoder): TDNNEncoder(\n",
       "      (encoder): ModuleList(\n",
       "        (0): TDNN(\n",
       "          (conv): Conv2d(1, 128, kernel_size=(128, 1), stride=(1, 1), bias=False)\n",
       "          (bn): BatchNorm2d(128, eps=1e-05, momentum=0.1, affine=True, track_running_stats=True)\n",
       "        )\n",
       "        (1): TDNN(\n",
       "          (conv): Conv2d(1, 128, kernel_size=(128, 2), stride=(1, 1), bias=False)\n",
       "          (bn): BatchNorm2d(128, eps=1e-05, momentum=0.1, affine=True, track_running_stats=True)\n",
       "        )\n",
       "      )\n",
       "      (fc): Linear(in_features=256, out_features=256, bias=True)\n",
       "      (bn): BatchNorm1d(256, eps=1e-05, momentum=0.1, affine=True, track_running_stats=True)\n",
       "    )\n",
       "    (cited_author_encoder): TDNNEncoder(\n",
       "      (encoder): ModuleList(\n",
       "        (0): TDNN(\n",
       "          (conv): Conv2d(1, 128, kernel_size=(128, 1), stride=(1, 1), bias=False)\n",
       "          (bn): BatchNorm2d(128, eps=1e-05, momentum=0.1, affine=True, track_running_stats=True)\n",
       "        )\n",
       "        (1): TDNN(\n",
       "          (conv): Conv2d(1, 128, kernel_size=(128, 2), stride=(1, 1), bias=False)\n",
       "          (bn): BatchNorm2d(128, eps=1e-05, momentum=0.1, affine=True, track_running_stats=True)\n",
       "        )\n",
       "      )\n",
       "      (fc): Linear(in_features=256, out_features=256, bias=True)\n",
       "      (bn): BatchNorm1d(256, eps=1e-05, momentum=0.1, affine=True, track_running_stats=True)\n",
       "    )\n",
       "  )\n",
       "  (attention): Attention(\n",
       "    (attn): Linear(in_features=256, out_features=128, bias=True)\n",
       "  )\n",
       "  (decoder): Decoder(\n",
       "    (attention): Attention(\n",
       "      (attn): Linear(in_features=256, out_features=128, bias=True)\n",
       "    )\n",
       "    (embedding): Embedding(30004, 128, padding_idx=1)\n",
       "    (rnn): GRU(256, 128)\n",
       "    (out): Linear(in_features=384, out_features=30004, bias=True)\n",
       "    (dropout): Dropout(p=0.2)\n",
       "  )\n",
       ")"
      ]
     },
     "execution_count": 6,
     "metadata": {},
     "output_type": "execute_result"
    }
   ],
   "source": [
    "net = NeuralCitationNetwork(context_filters=[4,4,5], context_vocab_size=cntxt_vocab_len,\n",
    "                            authors=True, author_filters=[1,2], author_vocab_size=aut_vocab_len,\n",
    "                            title_vocab_size=ttl_vocab_len, pad_idx=PAD_IDX, num_layers=2)\n",
    "net.to(DEVICE)\n",
    "net.apply(init_weights)"
   ]
  },
  {
   "cell_type": "code",
   "execution_count": null,
   "metadata": {},
   "outputs": [
    {
     "name": "stderr",
     "output_type": "stream",
     "text": [
      "INFO:neural_citation.train:INITIALIZING NEURAL CITATION NETWORK WITH AUTHORS = True\n",
      "Running on: cuda\n",
      "Number of model parameters: 23,848,116\n",
      "Encoders: # Filters = 128, Context filter length = [4, 4, 5],  Context filter length = [1, 2]\n",
      "Embeddings: Dimension = 128, Pad index = 1, Context vocab = 30002, Author vocab = 30002, Title vocab = 30004\n",
      "Decoder: # GRU cells = 2, Hidden size = 128\n",
      "Parameters: Dropout = 0.2, Show attention = False\n",
      "-------------------------------------------------\n",
      "TRAINING SETTINGS\n",
      "Seed = 34, # Epochs = 20, Batch size = 32, Initial lr = 0.1\n"
     ]
    },
    {
     "data": {
      "application/vnd.jupyter.widget-view+json": {
       "model_id": "274edc06505c4a548be94337653f9f6c",
       "version_major": 2,
       "version_minor": 0
      },
      "text/plain": [
       "HBox(children=(IntProgress(value=0, description='Epochs', max=20, style=ProgressStyle(description_width='initi…"
      ]
     },
     "metadata": {},
     "output_type": "display_data"
    },
    {
     "data": {
      "application/vnd.jupyter.widget-view+json": {
       "model_id": "95ca0a70d7cd49038ff4812c0247cb13",
       "version_major": 2,
       "version_minor": 0
      },
      "text/plain": [
       "HBox(children=(IntProgress(value=0, description='Training batches', max=10989, style=ProgressStyle(description…"
      ]
     },
     "metadata": {},
     "output_type": "display_data"
    }
   ],
   "source": [
    "train_losses, valid_losses = train_model(net, data.train_iter, data.valid_iter, PAD_IDX)"
   ]
  },
  {
   "cell_type": "code",
   "execution_count": null,
   "metadata": {},
   "outputs": [],
   "source": []
  }
 ],
 "metadata": {
  "kernelspec": {
   "display_name": "Python 3",
   "language": "python",
   "name": "python3"
  },
  "language_info": {
   "codemirror_mode": {
    "name": "ipython",
    "version": 3
   },
   "file_extension": ".py",
   "mimetype": "text/x-python",
   "name": "python",
   "nbconvert_exporter": "python",
   "pygments_lexer": "ipython3",
   "version": "3.7.3"
  }
 },
 "nbformat": 4,
 "nbformat_minor": 2
}
