{
 "cells": [
  {
   "cell_type": "code",
   "execution_count": 1,
   "metadata": {},
   "outputs": [],
   "source": [
    "from ncn.model import *\n",
    "from ncn.training import *"
   ]
  },
  {
   "cell_type": "code",
   "execution_count": 2,
   "metadata": {},
   "outputs": [],
   "source": [
    "random.seed(SEED)\n",
    "torch.manual_seed(SEED)\n",
    "torch.backends.cudnn.deterministic = True"
   ]
  },
  {
   "cell_type": "code",
   "execution_count": 3,
   "metadata": {},
   "outputs": [
    {
     "name": "stderr",
     "output_type": "stream",
     "text": [
      "INFO:neural_citation.data:Getting fields...\n",
      "INFO:neural_citation.data:Loading dataset...\n",
      "INFO:neural_citation.data:Building vocab...\n"
     ]
    }
   ],
   "source": [
    "# set up training\n",
    "data = generate_bucketized_iterators(\"/home/jupyter/tutorials/seminar_kd/arxiv_data.csv\")\n",
    "PAD_IDX = data.ttl.vocab.stoi['<pad>']\n",
    "cntxt_vocab_len = len(data.cntxt.vocab)\n",
    "aut_vocab_len = len(data.aut.vocab)\n",
    "ttl_vocab_len = len(data.ttl.vocab)"
   ]
  },
  {
   "cell_type": "code",
   "execution_count": 4,
   "metadata": {},
   "outputs": [
    {
     "name": "stderr",
     "output_type": "stream",
     "text": [
      "INFO:neural_citation.ncn:INITIALIZING NEURAL CITATION NETWORK WITH AUTHORS = True\n",
      "Running on: cuda\n",
      "Number of model parameters: 23,535,028\n",
      "Encoders: # Filters = 128, Context filter length = [4, 4, 5],  Context filter length = [1, 2]\n",
      "Embeddings: Dimension = 128, Pad index = 1, Context vocab = 30002, Author vocab = 30002, Title vocab = 30004\n",
      "Decoder: # GRU cells = 2, Hidden size = 128\n",
      "Parameters: Dropout = 0.2\n",
      "--------------------------\n"
     ]
    },
    {
     "data": {
      "text/plain": [
       "NeuralCitationNetwork(\n",
       "  (encoder): NCNEncoder(\n",
       "    (dropout): Dropout(p=0.2)\n",
       "    (context_embedding): Embedding(30002, 128, padding_idx=1)\n",
       "    (context_encoder): TDNNEncoder(\n",
       "      (fc): Linear(in_features=384, out_features=384, bias=True)\n",
       "      (bn): BatchNorm1d(384, eps=1e-05, momentum=0.1, affine=True, track_running_stats=True)\n",
       "    )\n",
       "    (author_embedding): Embedding(30002, 128, padding_idx=1)\n",
       "    (citing_author_encoder): TDNNEncoder(\n",
       "      (fc): Linear(in_features=256, out_features=256, bias=True)\n",
       "      (bn): BatchNorm1d(256, eps=1e-05, momentum=0.1, affine=True, track_running_stats=True)\n",
       "    )\n",
       "    (cited_author_encoder): TDNNEncoder(\n",
       "      (fc): Linear(in_features=256, out_features=256, bias=True)\n",
       "      (bn): BatchNorm1d(256, eps=1e-05, momentum=0.1, affine=True, track_running_stats=True)\n",
       "    )\n",
       "  )\n",
       "  (attention): Attention(\n",
       "    (attn): Linear(in_features=256, out_features=128, bias=True)\n",
       "  )\n",
       "  (decoder): Decoder(\n",
       "    (attention): Attention(\n",
       "      (attn): Linear(in_features=256, out_features=128, bias=True)\n",
       "    )\n",
       "    (embedding): Embedding(30004, 128, padding_idx=1)\n",
       "    (rnn): GRU(256, 128)\n",
       "    (out): Linear(in_features=384, out_features=30004, bias=True)\n",
       "    (dropout): Dropout(p=0.2)\n",
       "  )\n",
       ")"
      ]
     },
     "execution_count": 4,
     "metadata": {},
     "output_type": "execute_result"
    }
   ],
   "source": [
    "net = NeuralCitationNetwork(context_filters=[4,4,5], context_vocab_size=cntxt_vocab_len,\n",
    "                            authors=True, author_filters=[1,2], author_vocab_size=aut_vocab_len,\n",
    "                            title_vocab_size=ttl_vocab_len, pad_idx=PAD_IDX, num_layers=2)\n",
    "net.to(DEVICE)\n",
    "net.apply(init_weights)"
   ]
  },
  {
   "cell_type": "code",
   "execution_count": 5,
   "metadata": {},
   "outputs": [
    {
     "name": "stderr",
     "output_type": "stream",
     "text": [
      "INFO:neural_citation.train:Epoch: 01 | Time: 10m 16s\n",
      "INFO:neural_citation.train:\tTrain Loss: 1385.732\n",
      "INFO:neural_citation.train:\t Val. Loss: 1278.524\n",
      "INFO:neural_citation.train:Epoch: 02 | Time: 10m 15s\n",
      "INFO:neural_citation.train:\tTrain Loss: 1245.059\n",
      "INFO:neural_citation.train:\t Val. Loss: 1276.715\n",
      "INFO:neural_citation.train:Epoch: 03 | Time: 10m 17s\n",
      "INFO:neural_citation.train:\tTrain Loss: 1217.724\n",
      "INFO:neural_citation.train:\t Val. Loss: 1257.811\n",
      "INFO:neural_citation.train:Epoch: 04 | Time: 10m 19s\n",
      "INFO:neural_citation.train:\tTrain Loss: 1045.098\n",
      "INFO:neural_citation.train:\t Val. Loss: 1347.428\n",
      "INFO:neural_citation.train:Epoch: 05 | Time: 10m 17s\n",
      "INFO:neural_citation.train:\tTrain Loss: 985.361\n",
      "INFO:neural_citation.train:\t Val. Loss: 1230.886\n",
      "INFO:neural_citation.train:Epoch: 06 | Time: 10m 18s\n",
      "INFO:neural_citation.train:\tTrain Loss: 981.736\n",
      "INFO:neural_citation.train:\t Val. Loss: 1131.072\n",
      "INFO:neural_citation.train:Epoch: 07 | Time: 10m 18s\n",
      "INFO:neural_citation.train:\tTrain Loss: 980.084\n",
      "INFO:neural_citation.train:\t Val. Loss: 1150.143\n",
      "INFO:neural_citation.train:Epoch: 08 | Time: 10m 23s\n",
      "INFO:neural_citation.train:\tTrain Loss: 979.165\n",
      "INFO:neural_citation.train:\t Val. Loss: 1159.395\n",
      "INFO:neural_citation.train:Epoch: 09 | Time: 10m 18s\n",
      "INFO:neural_citation.train:\tTrain Loss: 978.294\n",
      "INFO:neural_citation.train:\t Val. Loss: 1114.741\n",
      "INFO:neural_citation.train:Epoch: 10 | Time: 10m 19s\n",
      "INFO:neural_citation.train:\tTrain Loss: 975.441\n",
      "INFO:neural_citation.train:\t Val. Loss: 1100.187\n"
     ]
    }
   ],
   "source": [
    "train_ncn(net, data.train_iter, data.valid_iter, PAD_IDX)"
   ]
  },
  {
   "cell_type": "code",
   "execution_count": null,
   "metadata": {},
   "outputs": [],
   "source": []
  }
 ],
 "metadata": {
  "kernelspec": {
   "display_name": "Python 3",
   "language": "python",
   "name": "python3"
  },
  "language_info": {
   "codemirror_mode": {
    "name": "ipython",
    "version": 3
   },
   "file_extension": ".py",
   "mimetype": "text/x-python",
   "name": "python",
   "nbconvert_exporter": "python",
   "pygments_lexer": "ipython3",
   "version": "3.7.3"
  }
 },
 "nbformat": 4,
 "nbformat_minor": 2
}
