{
 "cells": [
  {
   "cell_type": "markdown",
   "metadata": {},
   "source": [
    "# Neural citation network for local citation recommendation"
   ]
  },
  {
   "cell_type": "code",
   "execution_count": 1,
   "metadata": {},
   "outputs": [],
   "source": [
    "import torch\n",
    "from torchtext.data import BucketIterator\n",
    "from ncn.evaluation import Evaluator\n",
    "from ncn.data import get_datasets\n",
    "import matplotlib.pyplot as plt\n",
    "import matplotlib.ticker as ticker\n",
    "import numpy as np\n",
    "%matplotlib inline"
   ]
  },
  {
   "cell_type": "code",
   "execution_count": 2,
   "metadata": {},
   "outputs": [],
   "source": [
    "path_to_weights = \"/home/timo/Downloads/best_model_bn_TDNN/NCN_7_17_10.pt\"\n",
    "path_to_data = \"/home/timo/DataSets/KD_arxiv_CS/arxiv_data.csv\""
   ]
  },
  {
   "cell_type": "code",
   "execution_count": 3,
   "metadata": {},
   "outputs": [
    {
     "name": "stderr",
     "output_type": "stream",
     "text": [
      "INFO:neural_citation.data:Getting fields...\n",
      "INFO:neural_citation.data:Loading dataset...\n",
      "INFO:neural_citation.data:Building vocab...\n"
     ]
    }
   ],
   "source": [
    "data = get_datasets(path_to_data)"
   ]
  },
  {
   "cell_type": "code",
   "execution_count": 4,
   "metadata": {},
   "outputs": [],
   "source": [
    "def display_dict(d):\n",
    "    \"\"\"Display a dict nice and pretty.\"\"\"\n",
    "    for key, value in d.items():\n",
    "        print(f\"Citation rank {key}|\\t {value}\")"
   ]
  },
  {
   "cell_type": "code",
   "execution_count": 5,
   "metadata": {},
   "outputs": [],
   "source": [
    "def display_attention(title, attention):\n",
    "    \n",
    "    fig = plt.figure(figsize=(10,10))\n",
    "    ax = fig.add_subplot(111)\n",
    "    \n",
    "    attention = attention.squeeze(1).cpu().detach().numpy()\n",
    "    \n",
    "    cax = ax.matshow(attention, cmap=\"plasma\")\n",
    "   \n",
    "    ax.tick_params(labelsize=15)\n",
    "    xlabels = [\"Context TDNN 1 (f=4)\", \"Context TDNN 2 (f=4)\", \"Context TDNN 3 (f=5)\",\n",
    "              \"Citing TDNN 1 (f=1)\", \"Citing TDNN 2 (f=2)\",\n",
    "              \"Cited TDNN 1 (f=1)\", \"Cited TDNN 2 (f=2)\"\n",
    "              ]\n",
    "    ax.set_xticklabels([''] + xlabels, \n",
    "                       rotation=90)\n",
    "    # have tokenized title here\n",
    "    ax.set_yticklabels([''] + title)\n",
    "\n",
    "    ax.xaxis.set_major_locator(ticker.MultipleLocator(1))\n",
    "    ax.yaxis.set_major_locator(ticker.MultipleLocator(1))\n",
    "    fig.colorbar(cax)"
   ]
  },
  {
   "cell_type": "markdown",
   "metadata": {},
   "source": [
    "## Data: Basic statistics\n",
    "1. Removed 8260 triplets of paper data due to empty/missing files.  \n",
    "2. Removed 1 data sample throwing regex error.  \n",
    "3. Removed 161670 context samples where information was missing/could not be parsed from files.   \n",
    "* This leaves __502353 context - citation pairs__ with full information.\n",
    "* __Context vocabulary__ size after processing: __72046__.  \n",
    "* __Title vocabulary__ size after processing: __43208__.  \n",
    "* Number of __citing authors__: __28200__.  \n",
    "* Number of __cited authors__: __169236__. \n",
    "\n",
    "![Context and title length distributions](assets/title_context_distribution.jpg)"
   ]
  },
  {
   "cell_type": "markdown",
   "metadata": {},
   "source": [
    "## Data preprocessing with torchtext Fields  \n",
    "* __Tokenize and preprocess__ data strings.  \n",
    "* __Numericalize__ data.  \n",
    "* Containg __vocabularies__ built on the dataset.  \n",
    "* Provide __batch processing__ of samples.  "
   ]
  },
  {
   "cell_type": "code",
   "execution_count": 102,
   "metadata": {},
   "outputs": [],
   "source": [
    "context = \"Neural networks are really cool, especially if they are convolutional.\"\n",
    "authors = \"Chuck Norris, Bruce Lee\""
   ]
  },
  {
   "cell_type": "markdown",
   "metadata": {},
   "source": [
    "### Tokenization and Preprocessing\n",
    "* Tokenization\n",
    "* Stopword removal\n",
    "* Lowercasing"
   ]
  },
  {
   "cell_type": "code",
   "execution_count": 75,
   "metadata": {},
   "outputs": [],
   "source": [
    "tokenized = data.cntxt.tokenize(context)"
   ]
  },
  {
   "cell_type": "code",
   "execution_count": 76,
   "metadata": {},
   "outputs": [
    {
     "data": {
      "text/plain": [
       "['Neural',\n",
       " 'network',\n",
       " 'be',\n",
       " 'really',\n",
       " 'cool',\n",
       " 'especially',\n",
       " 'if',\n",
       " 'they',\n",
       " 'be',\n",
       " 'convolutional']"
      ]
     },
     "execution_count": 76,
     "metadata": {},
     "output_type": "execute_result"
    }
   ],
   "source": [
    "tokenized"
   ]
  },
  {
   "cell_type": "markdown",
   "metadata": {},
   "source": [
    "### Numericalization\n",
    "* Matching words to vocabulary indices"
   ]
  },
  {
   "cell_type": "code",
   "execution_count": 77,
   "metadata": {},
   "outputs": [
    {
     "data": {
      "text/plain": [
       "tensor([[   0,    3,    0,    0, 4637,  775,    0,    0,    0,  413]])"
      ]
     },
     "execution_count": 77,
     "metadata": {},
     "output_type": "execute_result"
    }
   ],
   "source": [
    "data.cntxt.numericalize([tokenized])"
   ]
  },
  {
   "cell_type": "markdown",
   "metadata": {},
   "source": [
    "### Batch processing\n",
    "* Pad batches on the fly"
   ]
  },
  {
   "cell_type": "code",
   "execution_count": 78,
   "metadata": {},
   "outputs": [],
   "source": [
    "examples = [example.context for example in data.train.examples[:30]]"
   ]
  },
  {
   "cell_type": "code",
   "execution_count": 79,
   "metadata": {},
   "outputs": [
    {
     "data": {
      "text/plain": [
       "['poon',\n",
       " 'aim',\n",
       " 'design',\n",
       " 'uav',\n",
       " 'noiseless',\n",
       " 'vibration',\n",
       " 'free',\n",
       " 'use',\n",
       " 'ionic',\n",
       " 'propulsion',\n",
       " 'uav',\n",
       " 'inoic',\n",
       " 'flyer',\n",
       " 'fig']"
      ]
     },
     "execution_count": 79,
     "metadata": {},
     "output_type": "execute_result"
    }
   ],
   "source": [
    "examples[4]"
   ]
  },
  {
   "cell_type": "code",
   "execution_count": 80,
   "metadata": {},
   "outputs": [],
   "source": [
    "tensorized = data.cntxt.numericalize(data.cntxt.pad(examples))"
   ]
  },
  {
   "cell_type": "code",
   "execution_count": 81,
   "metadata": {},
   "outputs": [
    {
     "name": "stdout",
     "output_type": "stream",
     "text": [
      "Batch data type: torch.LongTensor\n",
      "Batch shape: torch.Size([30, 32])\n",
      "tensor([[ 1182,  2188,  1576,   478,   352,   119,    10,   197,   409, 17724,\n",
      "             0,  6217,    26,     1,     1,     1,     1,     1,     1,     1,\n",
      "             1,     1,     1,     1,     1,     1,     1,     1,     1,     1,\n",
      "             1,     1],\n",
      "        [  868,    13,   232,   730,    53,   343,   128,    12,   146,    32,\n",
      "           280,   105,     1,     1,     1,     1,     1,     1,     1,     1,\n",
      "             1,     1,     1,     1,     1,     1,     1,     1,     1,     1,\n",
      "             1,     1]])\n"
     ]
    }
   ],
   "source": [
    "print(f\"Batch data type: {tensorized.type()}\")\n",
    "print(f\"Batch shape: {tensorized.shape}\")\n",
    "print(tensorized[:2, :])"
   ]
  },
  {
   "cell_type": "markdown",
   "metadata": {},
   "source": [
    "## Bucketting: What it is and why do we need it?\n",
    "* Drastically reduces training time.  \n",
    "* Ensures all data in a batch is sorted according to certain key (title length in our case).  "
   ]
  },
  {
   "cell_type": "code",
   "execution_count": 82,
   "metadata": {},
   "outputs": [],
   "source": [
    "train_iterator, valid_iterator, test_iterator = BucketIterator.splits((data.train, data.valid, data.test), \n",
    "                                                                          batch_size = 32,\n",
    "                                                                          sort_within_batch = True,\n",
    "                                                                          sort_key = lambda x : len(x.title_cited))"
   ]
  },
  {
   "cell_type": "code",
   "execution_count": 83,
   "metadata": {},
   "outputs": [],
   "source": [
    "batch = next(iter(train_iterator))"
   ]
  },
  {
   "cell_type": "code",
   "execution_count": 84,
   "metadata": {},
   "outputs": [
    {
     "data": {
      "text/plain": [
       "tensor([[   2,  257, 3311, 2440,  286,   92,  116,  131,    3],\n",
       "        [   2,  551,  237,  392,  818,  167, 1563, 2828,    3],\n",
       "        [   2,  744,  215,  600,   15,   70,   54,   79,    3],\n",
       "        [   2,  386,  832,   28,    6, 1880,  172,   28,    3],\n",
       "        [   2, 1649,   51,  803,  237,  994,  536,  229,    3]])"
      ]
     },
     "execution_count": 84,
     "metadata": {},
     "output_type": "execute_result"
    }
   ],
   "source": [
    "batch.title_cited.permute(1,0)[:5]"
   ]
  },
  {
   "cell_type": "markdown",
   "metadata": {},
   "source": [
    "## Demo"
   ]
  },
  {
   "cell_type": "code",
   "execution_count": 85,
   "metadata": {},
   "outputs": [
    {
     "name": "stderr",
     "output_type": "stream",
     "text": [
      "INFO:neural_citation.evaluation:INITIALIZING NEURAL CITATION NETWORK WITH AUTHORS = True\n",
      "Running on: cpu\n",
      "Number of model parameters: 23,533,236\n",
      "Encoders: # Filters = 128, Context filter length = [4, 4, 5],  Context filter length = [1, 2]\n",
      "Embeddings: Dimension = 128, Pad index = 1, Context vocab = 30002, Author vocab = 30002, Title vocab = 30004\n",
      "Decoder: # GRU cells = 2, Hidden size = 128\n",
      "Parameters: Dropout = 0.2, Show attention = True\n",
      "-------------------------------------------------\n",
      "INFO:neural_citation.evaluation:Creating corpus in eval=False mode.\n",
      "INFO:neural_citation.evaluation:Number of samples in BM25 corpus: 1054941\n"
     ]
    }
   ],
   "source": [
    "evaluator = Evaluator(path_to_weights, data, evaluate=False, show_attention=True)"
   ]
  },
  {
   "cell_type": "code",
   "execution_count": 107,
   "metadata": {},
   "outputs": [],
   "source": [
    "recomms, a = evaluator.recommend(context, authors)"
   ]
  },
  {
   "cell_type": "code",
   "execution_count": 108,
   "metadata": {},
   "outputs": [
    {
     "name": "stdout",
     "output_type": "stream",
     "text": [
      "Citation rank 0|\t Fast convolutional sparse coding\n",
      "Citation rank 1|\t Visualizing and understanding convolutional networks\n",
      "Citation rank 2|\t Convolutional codes for Network-error correction\n",
      "Citation rank 3|\t Striving for   simplicity: The all convolutional net\n",
      "Citation rank 4|\t Compression artifacts reduction   by a deep convolutional network\n"
     ]
    }
   ],
   "source": [
    "display_dict(recomms)"
   ]
  },
  {
   "cell_type": "markdown",
   "metadata": {},
   "source": [
    "## But what about attention?"
   ]
  },
  {
   "cell_type": "code",
   "execution_count": 73,
   "metadata": {},
   "outputs": [
    {
     "data": {
      "image/png": "[encoded data removed]",
      "text/plain": [
       "<Figure size 720x720 with 2 Axes>"
      ]
     },
     "metadata": {
      "needs_background": "light"
     },
     "output_type": "display_data"
    }
   ],
   "source": [
    "rec = 4\n",
    "seq = data.cntxt.tokenize(recomms[rec])\n",
    "display_attention(seq, a[1:len(seq)+1, rec, :])"
   ]
  },
  {
   "cell_type": "markdown",
   "metadata": {},
   "source": [
    "## Documentation\n",
    "![Context and title length distributions](assets/Documentation.png)"
   ]
  },
  {
   "cell_type": "code",
   "execution_count": null,
   "metadata": {},
   "outputs": [],
   "source": []
  }
 ],
 "metadata": {
  "kernelspec": {
   "display_name": "Python 3",
   "language": "python",
   "name": "python3"
  },
  "language_info": {
   "codemirror_mode": {
    "name": "ipython",
    "version": 3
   },
   "file_extension": ".py",
   "mimetype": "text/x-python",
   "name": "python",
   "nbconvert_exporter": "python",
   "pygments_lexer": "ipython3",
   "version": "3.7.3"
  }
 },
 "nbformat": 4,
 "nbformat_minor": 2
}
