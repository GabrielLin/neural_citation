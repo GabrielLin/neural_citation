{
 "cells": [
  {
   "cell_type": "markdown",
   "metadata": {},
   "source": [
    "# Neural citation network for local citation recommendation"
   ]
  },
  {
   "cell_type": "code",
   "execution_count": 1,
   "metadata": {},
   "outputs": [
    {
     "name": "stderr",
     "output_type": "stream",
     "text": [
      "DEBUG:matplotlib:$HOME=/home/timo\n",
      "DEBUG:matplotlib:CONFIGDIR=/home/timo/.config/matplotlib\n",
      "DEBUG:matplotlib:matplotlib data path: /home/timo/Programs/miniconda3/envs/fastai/lib/python3.7/site-packages/matplotlib/mpl-data\n",
      "DEBUG:matplotlib:loaded rc file /home/timo/Programs/miniconda3/envs/fastai/lib/python3.7/site-packages/matplotlib/mpl-data/matplotlibrc\n",
      "DEBUG:matplotlib:matplotlib version 3.1.0\n",
      "DEBUG:matplotlib:interactive is False\n",
      "DEBUG:matplotlib:platform is linux\n",
      "DEBUG:matplotlib:loaded modules: ['sys', 'builtins', '_frozen_importlib', '_imp', '_thread', '_warnings', '_weakref', 'zipimport', '_frozen_importlib_external', '_io', 'marshal', 'posix', 'encodings', 'codecs', '_codecs', 'encodings.aliases', 'encodings.utf_8', '_signal', '__main__', 'encodings.latin_1', 'io', 'abc', '_abc', '_bootlocale', '_locale', 'site', 'os', 'stat', '_stat', 'posixpath', 'genericpath', 'os.path', '_collections_abc', '_sitebuiltins', 'types', 'importlib', 'importlib._bootstrap', 'importlib._bootstrap_external', 'warnings', 'importlib.util', 'importlib.abc', 'importlib.machinery', 'contextlib', 'collections', 'operator', '_operator', 'keyword', 'heapq', '_heapq', 'itertools', 'reprlib', '_collections', 'functools', '_functools', 'mpl_toolkits', 'google', 'runpy', 'pkgutil', 'weakref', '_weakrefset', 'ipykernel', 'ipykernel._version', 'ipykernel.connect', '__future__', 'json', 'json.decoder', 're', 'enum', 'sre_compile', '_sre', 'sre_parse', 'sre_constants', 'copyreg', 'json.scanner', '_json', 'json.encoder', 'subprocess', 'time', 'signal', 'errno', '_posixsubprocess', 'select', 'selectors', 'collections.abc', 'math', 'threading', 'traceback', 'linecache', 'tokenize', 'token', 'IPython', 'IPython.core', 'IPython.core.getipython', 'IPython.core.release', 'IPython.core.application', 'atexit', 'copy', 'glob', 'fnmatch', 'logging', 'string', '_string', 'shutil', 'zlib', 'bz2', '_compression', '_bz2', 'lzma', '_lzma', 'pwd', 'grp', 'traitlets', 'traitlets.traitlets', 'inspect', 'dis', 'opcode', '_opcode', 'six', 'struct', '_struct', 'traitlets.utils', 'traitlets.utils.getargspec', 'traitlets.utils.importstring', 'ipython_genutils', 'ipython_genutils._version', 'ipython_genutils.py3compat', 'ipython_genutils.encoding', 'locale', 'platform', 'traitlets.utils.sentinel', 'traitlets.utils.bunch', 'traitlets._version', 'traitlets.config', 'traitlets.config.application', 'decorator', 'traitlets.config.configurable', 'traitlets.config.loader', 'argparse', 'gettext', 'ast', '_ast', 'ipython_genutils.path', 'random', 'hashlib', '_hashlib', '_blake2', '_sha3', 'bisect', '_bisect', '_random', 'ipython_genutils.text', 'textwrap', 'ipython_genutils.importstring', 'IPython.core.crashhandler', 'pprint', 'IPython.core.ultratb', 'pydoc', 'urllib', 'urllib.parse', 'IPython.core.debugger', 'bdb', 'IPython.utils', 'IPython.utils.PyColorize', 'IPython.utils.coloransi', 'IPython.utils.ipstruct', 'IPython.utils.colorable', 'pygments', 'pygments.util', 'IPython.utils.py3compat', 'IPython.utils.encoding', 'IPython.core.excolors', 'IPython.testing', 'IPython.testing.skipdoctest', 'pdb', 'cmd', 'code', 'codeop', 'IPython.core.display_trap', 'IPython.utils.path', 'IPython.utils.process', 'IPython.utils._process_posix', 'pexpect', 'pexpect.exceptions', 'pexpect.utils', 'pexpect.expect', 'pexpect.pty_spawn', 'pty', 'tty', 'termios', 'ptyprocess', 'ptyprocess.ptyprocess', 'fcntl', 'resource', 'ptyprocess.util', 'pexpect.spawnbase', 'pexpect.run', 'IPython.utils._process_common', 'shlex', 'IPython.utils.decorators', 'IPython.utils.data', 'IPython.utils.terminal', 'IPython.utils.sysinfo', 'IPython.utils._sysinfo', 'IPython.core.profiledir', 'IPython.paths', 'tempfile', 'IPython.utils.importstring', 'IPython.terminal', 'IPython.terminal.embed', 'IPython.core.compilerop', 'IPython.core.magic_arguments', 'IPython.core.error', 'IPython.utils.text', 'pathlib', 'ntpath', 'IPython.core.magic', 'getopt', 'IPython.core.oinspect', 'IPython.core.page', 'IPython.core.display', 'binascii', 'mimetypes', 'IPython.lib', 'IPython.lib.security', 'getpass', 'IPython.lib.pretty', 'datetime', '_datetime', 'IPython.utils.openpy', 'IPython.utils.dir2', 'IPython.utils.wildcard', 'pygments.lexers', 'pygments.lexers._mapping', 'pygments.modeline', 'pygments.plugin', 'pygments.lexers.python', 'pygments.lexer', 'pygments.filter', 'pygments.filters', 'pygments.token', 'pygments.regexopt', 'pygments.unistring', 'pygments.formatters', 'pygments.formatters._mapping', 'pygments.formatters.html', 'pygments.formatter', 'pygments.styles', 'IPython.core.inputtransformer2', 'typing', 'typing.io', 'typing.re', 'IPython.core.interactiveshell', 'asyncio', 'asyncio.base_events', 'concurrent', 'concurrent.futures', 'concurrent.futures._base', 'socket', '_socket', 'ssl', '_ssl', 'base64', 'asyncio.constants', 'asyncio.coroutines', 'asyncio.base_futures', 'asyncio.format_helpers', 'asyncio.log', 'asyncio.events', 'contextvars', '_contextvars', 'asyncio.base_tasks', '_asyncio', 'asyncio.futures', 'asyncio.protocols', 'asyncio.sslproto', 'asyncio.transports', 'asyncio.tasks', 'asyncio.locks', 'asyncio.runners', 'asyncio.queues', 'asyncio.streams', 'asyncio.subprocess', 'asyncio.unix_events', 'asyncio.base_subprocess', 'asyncio.selector_events', 'pickleshare', 'pickle', '_compat_pickle', '_pickle', 'IPython.core.prefilter', 'IPython.core.autocall', 'IPython.core.macro', 'IPython.core.splitinput', 'IPython.core.alias', 'IPython.core.builtin_trap', 'IPython.core.events', 'backcall', 'backcall.backcall', 'IPython.core.displayhook', 'IPython.core.displaypub', 'IPython.core.extensions', 'IPython.core.formatters', 'IPython.utils.sentinel', 'IPython.core.history', 'sqlite3', 'sqlite3.dbapi2', '_sqlite3', 'IPython.core.logger', 'IPython.core.payload', 'IPython.core.usage', 'IPython.display', 'IPython.lib.display', 'html', 'html.entities', 'IPython.utils.io', 'IPython.utils.capture', 'IPython.utils.strdispatch', 'IPython.core.hooks', 'IPython.utils.syspathcontext', 'IPython.utils.tempdir', 'IPython.utils.contexts', 'IPython.core.async_helpers', 'IPython.terminal.interactiveshell', 'prompt_toolkit', 'prompt_toolkit.application', 'prompt_toolkit.application.application', 'prompt_toolkit.buffer', 'prompt_toolkit.application.current', 'prompt_toolkit.eventloop', 'prompt_toolkit.eventloop.base', 'prompt_toolkit.log', 'prompt_toolkit.eventloop.coroutine', 'prompt_toolkit.eventloop.defaults', 'prompt_toolkit.utils', 'six.moves', 'wcwidth', 'wcwidth.wcwidth', 'wcwidth.table_wide', 'wcwidth.table_zero', 'prompt_toolkit.cache', 'prompt_toolkit.eventloop.future', 'prompt_toolkit.eventloop.context', 'prompt_toolkit.eventloop.async_generator', 'queue', '_queue', 'six.moves.queue', 'prompt_toolkit.eventloop.event', 'prompt_toolkit.application.run_in_terminal', 'prompt_toolkit.auto_suggest', 'prompt_toolkit.filters', 'prompt_toolkit.filters.base', 'prompt_toolkit.filters.app', 'prompt_toolkit.enums', 'prompt_toolkit.filters.utils', 'prompt_toolkit.filters.cli', 'prompt_toolkit.clipboard', 'prompt_toolkit.clipboard.base', 'prompt_toolkit.selection', 'prompt_toolkit.clipboard.in_memory', 'prompt_toolkit.completion', 'prompt_toolkit.completion.base', 'prompt_toolkit.completion.filesystem', 'prompt_toolkit.completion.word_completer', 'prompt_toolkit.completion.fuzzy_completer', 'prompt_toolkit.document', 'prompt_toolkit.history', 'prompt_toolkit.search', 'prompt_toolkit.key_binding', 'prompt_toolkit.key_binding.key_bindings', 'prompt_toolkit.keys', 'prompt_toolkit.key_binding.vi_state', 'prompt_toolkit.validation', 'prompt_toolkit.input', 'prompt_toolkit.input.base', 'prompt_toolkit.input.defaults', 'prompt_toolkit.input.typeahead', 'prompt_toolkit.key_binding.bindings', 'prompt_toolkit.key_binding.bindings.page_navigation', 'prompt_toolkit.key_binding.bindings.scroll', 'prompt_toolkit.key_binding.defaults', 'prompt_toolkit.key_binding.bindings.basic', 'prompt_toolkit.key_binding.key_processor', 'prompt_toolkit.key_binding.bindings.named_commands', 'prompt_toolkit.key_binding.bindings.completion', 'prompt_toolkit.key_binding.bindings.emacs', 'prompt_toolkit.key_binding.bindings.vi', 'prompt_toolkit.input.vt100_parser', 'prompt_toolkit.input.ansi_escape_sequences', 'prompt_toolkit.key_binding.digraphs', 'prompt_toolkit.key_binding.bindings.mouse', 'prompt_toolkit.layout', 'prompt_toolkit.layout.containers', 'prompt_toolkit.layout.controls', 'prompt_toolkit.formatted_text', 'prompt_toolkit.formatted_text.base', 'prompt_toolkit.formatted_text.html', 'xml', 'xml.dom', 'xml.dom.domreg', 'xml.dom.minidom', 'xml.dom.minicompat', 'xml.dom.xmlbuilder', 'xml.dom.NodeFilter', 'prompt_toolkit.formatted_text.ansi', 'prompt_toolkit.output', 'prompt_toolkit.output.base', 'prompt_toolkit.layout.screen', 'prompt_toolkit.output.defaults', 'prompt_toolkit.output.color_depth', 'prompt_toolkit.output.vt100', 'prompt_toolkit.styles', 'prompt_toolkit.styles.base', 'prompt_toolkit.styles.defaults', 'prompt_toolkit.styles.style', 'prompt_toolkit.styles.named_colors', 'prompt_toolkit.styles.pygments', 'prompt_toolkit.styles.style_transformation', 'colorsys', 'array', 'prompt_toolkit.formatted_text.pygments', 'prompt_toolkit.formatted_text.utils', 'prompt_toolkit.lexers', 'prompt_toolkit.lexers.base', 'prompt_toolkit.lexers.pygments', 'prompt_toolkit.mouse_events', 'prompt_toolkit.layout.processors', 'prompt_toolkit.layout.utils', 'prompt_toolkit.layout.dimension', 'prompt_toolkit.layout.margins', 'prompt_toolkit.layout.layout', 'prompt_toolkit.layout.menus', 'prompt_toolkit.renderer', 'prompt_toolkit.layout.mouse_handlers', 'prompt_toolkit.key_binding.bindings.cpr', 'prompt_toolkit.key_binding.emacs_state', 'prompt_toolkit.layout.dummy', 'prompt_toolkit.application.dummy', 'prompt_toolkit.shortcuts', 'prompt_toolkit.shortcuts.dialogs', 'prompt_toolkit.key_binding.bindings.focus', 'prompt_toolkit.widgets', 'prompt_toolkit.widgets.base', 'prompt_toolkit.widgets.toolbars', 'prompt_toolkit.widgets.dialogs', 'prompt_toolkit.widgets.menus', 'prompt_toolkit.shortcuts.prompt', 'prompt_toolkit.key_binding.bindings.auto_suggest', 'prompt_toolkit.key_binding.bindings.open_in_editor', 'prompt_toolkit.shortcuts.utils', 'prompt_toolkit.shortcuts.progress_bar', 'prompt_toolkit.shortcuts.progress_bar.base', 'prompt_toolkit.shortcuts.progress_bar.formatters', 'prompt_toolkit.patch_stdout', 'pygments.style', 'IPython.terminal.debugger', 'IPython.core.completer', 'unicodedata', 'IPython.core.latex_symbols', 'IPython.utils.generics', 'jedi', 'jedi.api', 'parso', 'parso.parser', 'parso.tree', 'parso._compatibility', 'parso.utils', 'parso.pgen2', 'parso.pgen2.generator', 'parso.pgen2.grammar_parser', 'parso.python', 'parso.python.tokenize', 'parso.python.token', 'parso.grammar', 'parso.python.diff', 'difflib', 'parso.python.parser', 'parso.python.tree', 'parso.python.prefix', 'parso.cache', 'gc', 'parso.python.errors', 'parso.normalizer', 'parso.python.pep8', 'parso.file_io', 'jedi._compatibility', 'jedi.parser_utils', 'jedi.debug', 'jedi.settings', 'jedi.cache', 'jedi.api.classes', 'jedi.evaluate', 'jedi.evaluate.utils', 'jedi.evaluate.imports', 'jedi.evaluate.sys_path', 'jedi.evaluate.cache', 'jedi.evaluate.base_context', 'jedi.common', 'jedi.common.context', 'jedi.evaluate.helpers', 'jedi.common.utils', 'jedi.evaluate.compiled', 'jedi.evaluate.compiled.context', 'jedi.evaluate.filters', 'jedi.evaluate.flow_analysis', 'jedi.evaluate.recursion', 'jedi.evaluate.lazy_context', 'jedi.evaluate.compiled.access', 'jedi.evaluate.compiled.getattr_static', 'jedi.evaluate.compiled.fake', 'jedi.evaluate.analysis', 'jedi.evaluate.context', 'jedi.evaluate.context.module', 'jedi.evaluate.context.klass', 'jedi.evaluate.context.function', 'jedi.evaluate.docstrings', 'jedi.evaluate.pep0484', 'jedi.evaluate.arguments', 'jedi.evaluate.context.iterable', 'jedi.evaluate.param', 'jedi.evaluate.context.asynchronous', 'jedi.evaluate.parser_cache', 'jedi.evaluate.context.instance', 'jedi.evaluate.syntax_tree', 'jedi.evaluate.finder', 'jedi.api.keywords', 'pydoc_data', 'pydoc_data.topics', 'jedi.api.interpreter', 'jedi.evaluate.compiled.mixed', 'jedi.api.helpers', 'jedi.api.completion', 'jedi.api.environment', 'filecmp', 'jedi.evaluate.compiled.subprocess', 'jedi.evaluate.compiled.subprocess.functions', 'jedi.api.exceptions', 'jedi.api.project', 'jedi.evaluate.usages', 'IPython.terminal.ptutils', 'IPython.terminal.shortcuts', 'IPython.terminal.magics', 'IPython.lib.clipboard', 'IPython.terminal.pt_inputhooks', 'IPython.terminal.prompts', 'IPython.terminal.ipapp', 'IPython.core.magics', 'IPython.core.magics.auto', 'IPython.core.magics.basic', 'IPython.core.magics.code', 'urllib.request', 'email', 'http', 'http.client', 'email.parser', 'email.feedparser', 'email.errors', 'email._policybase', 'email.header', 'email.quoprimime', 'email.base64mime', 'email.charset', 'email.encoders', 'quopri', 'email.utils', 'email._parseaddr', 'calendar', 'email.message', 'uu', 'email._encoded_words', 'email.iterators', 'urllib.error', 'urllib.response', 'IPython.core.magics.config', 'IPython.core.magics.display', 'IPython.core.magics.execution', 'timeit', 'cProfile', '_lsprof', 'profile', 'pstats', 'IPython.utils.module_paths', 'IPython.utils.timing', 'IPython.core.magics.extension', 'IPython.core.magics.history', 'IPython.core.magics.logging', 'IPython.core.magics.namespace', 'IPython.core.magics.osm', 'IPython.core.magics.packaging', 'IPython.core.magics.pylab', 'IPython.core.pylabtools', 'IPython.core.magics.script', 'IPython.lib.backgroundjobs', 'IPython.core.shellapp', 'IPython.extensions', 'IPython.extensions.storemagic', 'IPython.utils.frame', 'jupyter_client', 'jupyter_client._version', 'jupyter_client.connect', 'zmq', 'ctypes', '_ctypes', 'ctypes._endian', 'zmq.backend', 'zmq.backend.select', 'zmq.backend.cython', 'zmq.backend.cython.constants', 'cython_runtime', 'zmq.backend.cython.error', '_cython_0_29_6', 'zmq.backend.cython.message', 'zmq.error', 'zmq.backend.cython.context', 'zmq.backend.cython.socket', 'zmq.backend.cython.utils', 'zmq.backend.cython._poll', 'zmq.backend.cython._version', 'zmq.backend.cython._device', 'zmq.backend.cython._proxy_steerable', 'zmq.sugar', 'zmq.sugar.constants', 'zmq.utils', 'zmq.utils.constant_names', 'zmq.sugar.context', 'zmq.sugar.attrsettr', 'zmq.sugar.socket', 'zmq.sugar.poll', 'zmq.utils.jsonapi', 'zmq.utils.strtypes', 'zmq.sugar.frame', 'zmq.sugar.tracker', 'zmq.sugar.version', 'zmq.sugar.stopwatch', 'jupyter_client.localinterfaces', 'jupyter_core', 'jupyter_core.version', 'jupyter_core.paths', 'jupyter_client.launcher', 'traitlets.log', 'jupyter_client.client', 'jupyter_client.channels', 'jupyter_client.channelsabc', 'jupyter_client.clientabc', 'jupyter_client.manager', 'jupyter_client.kernelspec', 'jupyter_client.managerabc', 'jupyter_client.blocking', 'jupyter_client.blocking.client', 'jupyter_client.blocking.channels', 'jupyter_client.multikernelmanager', 'uuid', 'ipykernel.kernelapp', 'tornado', 'tornado.ioloop', 'numbers', 'tornado.concurrent', 'tornado.log', 'logging.handlers', 'tornado.escape', 'tornado.util', 'tornado.speedups', 'curses', '_curses', 'zmq.eventloop', 'zmq.eventloop.ioloop', 'tornado.platform', 'tornado.platform.asyncio', 'tornado.gen', 'zmq.eventloop.zmqstream', 'ipykernel.iostream', 'imp', 'jupyter_client.session', 'hmac', 'jupyter_client.jsonutil', 'dateutil', 'dateutil._version', 'dateutil.parser', 'dateutil.parser._parser', 'decimal', '_decimal', 'dateutil.relativedelta', 'dateutil._common', 'dateutil.tz', 'dateutil.tz.tz', 'dateutil.tz._common', 'dateutil.tz._factories', 'dateutil.parser.isoparser', '_strptime', 'jupyter_client.adapter', 'ipykernel.heartbeat', 'ipykernel.ipkernel', 'IPython.utils.tokenutil', 'ipykernel.comm', 'ipykernel.comm.manager', 'ipykernel.comm.comm', 'ipykernel.kernelbase', 'tornado.queues', 'tornado.locks', 'ipykernel.jsonutil', 'ipykernel.zmqshell', 'IPython.core.payloadpage', 'ipykernel.displayhook', 'ipykernel.parentpoller', 'faulthandler', 'ipykernel.datapub', 'ipykernel.serialize', 'ipykernel.pickleutil', 'ipykernel.codeutil', 'IPython.core.completerlib', 'storemagic', 'ipywidgets', 'ipywidgets._version', 'ipywidgets.widgets', 'ipywidgets.widgets.widget', 'ipywidgets.widgets.domwidget', 'ipywidgets.widgets.trait_types', 'ipywidgets.widgets.util', 'ipywidgets.widgets.widget_layout', 'ipywidgets.widgets.widget_style', 'ipywidgets.widgets.valuewidget', 'ipywidgets.widgets.widget_core', 'ipywidgets.widgets.widget_bool', 'ipywidgets.widgets.widget_description', 'ipywidgets.widgets.widget_button', 'ipywidgets.widgets.widget_box', 'ipywidgets.widgets.docutils', 'ipywidgets.widgets.widget_float', 'ipywidgets.widgets.widget_int', 'ipywidgets.widgets.widget_color', 'ipywidgets.widgets.widget_date', 'ipywidgets.widgets.widget_output', 'ipywidgets.widgets.widget_selection', 'ipywidgets.widgets.widget_selectioncontainer', 'ipywidgets.widgets.widget_string', 'ipywidgets.widgets.widget_controller', 'ipywidgets.widgets.interaction', 'ipywidgets.widgets.widget_link', 'ipywidgets.widgets.widget_media', 'ipywidgets.widgets.widget_templates', 'ipywidgets.widgets.widget_upload', 'torch', 'torch._utils', 'torch._utils_internal', 'torch.version', 'torch._six', 'numpy', 'numpy._globals', 'numpy.__config__', 'numpy.version', 'numpy._distributor_init', 'numpy._mklinit', 'numpy.core', 'numpy.core.info', 'numpy.core.multiarray', 'numpy.core.overrides', 'numpy.core._multiarray_umath', 'numpy.compat', 'numpy.compat._inspect', 'numpy.compat.py3k', 'numpy.core.umath', 'numpy.core.numerictypes', 'numpy.core._string_helpers', 'numpy.core._type_aliases', 'numpy.core._dtype', 'numpy.core.numeric', 'numpy.core._internal', 'numpy.core.fromnumeric', 'numpy.core._methods', 'numpy.core.arrayprint', 'numpy.core.defchararray', 'numpy.core.records', 'numpy.core.memmap', 'numpy.core.function_base', 'numpy.core.machar', 'numpy.core.getlimits', 'numpy.core.shape_base', 'numpy.core.einsumfunc', 'numpy.core._add_newdocs', 'numpy.core._multiarray_tests', 'numpy.core._dtype_ctypes', 'numpy._pytesttester', 'numpy.lib', 'numpy.lib.info', 'numpy.lib.type_check', 'numpy.lib.ufunclike', 'numpy.lib.index_tricks', 'numpy.matrixlib', 'numpy.matrixlib.defmatrix', 'numpy.linalg', 'numpy.linalg.info', 'numpy.linalg.linalg', 'numpy.lib.twodim_base', 'numpy.linalg.lapack_lite', 'numpy.linalg._umath_linalg', 'numpy.lib.function_base', 'numpy.lib.utils', 'numpy.lib.histograms', 'numpy.lib.stride_tricks', 'numpy.lib.mixins', 'numpy.lib.nanfunctions', 'numpy.lib.shape_base', 'numpy.lib.scimath', 'numpy.lib.polynomial', 'numpy.lib.arraysetops', 'numpy.lib.npyio', 'numpy.lib.format', 'numpy.lib._datasource', 'numpy.lib._iotools', 'numpy.lib.financial', 'numpy.lib.arrayterator', 'numpy.lib.arraypad', 'numpy.lib._version', 'numpy.fft', 'numpy.fft.info', 'numpy.fft.fftpack', 'numpy.fft.fftpack_lite', 'numpy.fft.helper', 'mkl_fft', 'mkl_fft._pydfti', '_cython_0_29_7', 'mkl_fft._version', 'mkl_fft._numpy_fft', 'numpy.polynomial', 'numpy.polynomial.polynomial', 'numpy.polynomial.polyutils', 'numpy.polynomial._polybase', 'numpy.polynomial.chebyshev', 'numpy.polynomial.legendre', 'numpy.polynomial.hermite', 'numpy.polynomial.hermite_e', 'numpy.polynomial.laguerre', 'numpy.random', 'numpy.random.mtrand', 'mtrand', 'numpy.ctypeslib', 'numpy.ma', 'numpy.ma.core', 'numpy.ma.extras', 'numpy.testing', 'unittest', 'unittest.result', 'unittest.util', 'unittest.case', 'unittest.suite', 'unittest.loader', 'unittest.main', 'unittest.runner', 'unittest.signals', 'numpy.testing._private', 'numpy.testing._private.utils', 'numpy.testing._private.decorators', 'numpy.testing._private.nosetester', 'torch._C._onnx', 'torch._C._jit_tree_views', 'torch._C.cpp', 'torch._C.cpp.nn', 'torch._C', 'torch.random', 'torch.serialization', 'tarfile', 'zipfile', 'torch._tensor_str', 'torch.tensor', 'torch.utils', 'torch.utils.hooks', 'torch.storage', 'torch.cuda', 'multiprocessing', 'multiprocessing.context', 'multiprocessing.process', 'multiprocessing.reduction', '__mp_main__', 'multiprocessing.util', 'torch.cuda._utils', 'torch.cuda.random', 'torch.cuda.sparse', 'torch.cuda.profiler', 'torch.cuda.nvtx', 'torch.cuda.streams', 'torch.sparse', 'torch.functional', 'torch.nn', 'torch.nn.modules', 'torch.nn.modules.module', 'torch.nn.backends', 'torch.nn.backends.thnn', 'torch.nn.backends.backend', 'torch.nn._functions', 'torch.nn._functions.thnn', 'torch.nn._functions.thnn.auto', 'torch._thnn', 'torch._thnn.utils', 'torch.autograd', 'torch.autograd.variable', 'torch.autograd.function', 'torch.autograd.gradcheck', 'torch.testing', 'torch.autograd.grad_mode', 'torch.autograd.anomaly_mode', 'torch.autograd.profiler', 'torch.nn._functions.thnn.auto_double_backwards', 'torch.nn._functions.thnn.auto_symbolic', 'torch.autograd._functions', 'torch.autograd._functions.tensor', 'torch.autograd._functions.utils', 'torch.nn._functions.thnn.normalization', 'torch.nn._functions.thnn.sparse', 'torch.nn.parameter', 'torch.nn.modules.linear', 'torch.nn.functional', 'torch.nn._reduction', 'torch._jit_internal', 'torch.nn.modules.utils', 'torch.nn._functions.vision', 'torch.backends', 'torch.backends.cudnn', 'torch.nn.grad', 'torch.nn._VF', 'torch.nn.init', 'torch.nn.modules.conv', 'torch.nn.modules.activation', 'torch.nn.modules.loss', 'torch.nn.modules.container', 'torch.nn.modules.pooling', 'torch.nn.modules.batchnorm', 'torch.nn.modules._functions', 'torch.nn.modules.instancenorm', 'torch.nn.modules.normalization', 'torch.nn.modules.dropout', 'torch.nn.modules.padding', 'torch.nn.modules.sparse', 'torch.nn.modules.rnn', 'torch.nn.utils', 'torch.nn.utils.rnn', 'torch.nn.utils.clip_grad', 'torch.nn.utils.weight_norm', 'torch.nn.utils.convert_parameters', 'torch.nn.utils.spectral_norm', 'torch.nn.modules.pixelshuffle', 'torch.nn.modules.upsampling', 'torch.nn.modules.distance', 'torch.nn.modules.fold', 'torch.nn.modules.adaptive', 'torch.nn.parallel', 'torch.nn.parallel.parallel_apply', 'torch.nn.parallel.replicate', 'torch.cuda.comm', 'torch.cuda.nccl', 'torch.nn.parallel.data_parallel', 'torch.nn.parallel.scatter_gather', 'torch.nn.parallel._functions', 'torch.nn.parallel.distributed', 'torch.distributed', 'torch.distributed.distributed_c10d', 'torch.distributed.rendezvous', 'torch.nn.parallel.distributed_cpu', 'torch.nn.parallel.deprecated', 'torch.nn.parallel.deprecated.distributed', 'torch.distributed.deprecated', 'torch.nn.parallel.deprecated.distributed_cpu', 'torch.optim', 'torch.optim.adadelta', 'torch.optim.optimizer', 'torch.optim.adagrad', 'torch.optim.adam', 'torch.optim.sparse_adam', 'torch.optim.adamax', 'torch.optim.asgd', 'torch.optim.sgd', 'torch.optim.rprop', 'torch.optim.rmsprop', 'torch.optim.lbfgs', 'torch.optim.lr_scheduler', 'torch.multiprocessing', 'torch.multiprocessing.reductions', 'multiprocessing.resource_sharer', 'torch.multiprocessing.spawn', 'multiprocessing.connection', '_multiprocessing', 'torch.utils.backcompat', 'torch.onnx', 'torch.jit', 'torch.jit.frontend', 'torch.jit.annotations', 'torch.hub', 'tqdm', 'tqdm._tqdm', 'tqdm._utils', 'tqdm._monitor', 'tqdm._tqdm_gui', 'tqdm._tqdm_pandas', 'tqdm._main', 'tqdm._version', 'torch.distributions', 'torch.distributions.bernoulli', 'torch.distributions.constraints', 'torch.distributions.exp_family', 'torch.distributions.distribution', 'torch.distributions.utils', 'torch.distributions.beta', 'torch.distributions.dirichlet', 'torch.distributions.binomial', 'torch.distributions.categorical', 'torch.distributions.cauchy', 'torch.distributions.chi2', 'torch.distributions.gamma', 'torch.distributions.constraint_registry', 'torch.distributions.transforms', 'torch.distributions.exponential', 'torch.distributions.fishersnedecor', 'torch.distributions.geometric', 'torch.distributions.gumbel', 'torch.distributions.uniform', 'torch.distributions.transformed_distribution', 'torch.distributions.half_cauchy', 'torch.distributions.half_normal', 'torch.distributions.normal', 'torch.distributions.independent', 'torch.distributions.kl', 'torch.distributions.laplace', 'torch.distributions.lowrank_multivariate_normal', 'torch.distributions.multivariate_normal', 'torch.distributions.one_hot_categorical', 'torch.distributions.pareto', 'torch.distributions.poisson', 'torch.distributions.log_normal', 'torch.distributions.logistic_normal', 'torch.distributions.multinomial', 'torch.distributions.negative_binomial', 'torch.distributions.relaxed_bernoulli', 'torch.distributions.relaxed_categorical', 'torch.distributions.studentT', 'torch.distributions.weibull', 'torch.backends.cuda', 'torch.backends.mkl', 'torch.backends.openmp', 'torch.__config__', 'torch._torch_docs', 'torch._tensor_docs', 'torch._storage_docs', 'torch._ops', 'torch.quasirandom', 'torchtext', 'torchtext.data', 'torchtext.data.batch', 'torchtext.data.dataset', 'gzip', 'torch.utils.data', 'torch.utils.data.sampler', 'torch.utils.data.distributed', 'torch.utils.data.dataset', 'torch.utils.data.dataloader', 'torch.utils.data._utils', 'torch.utils.data._utils.worker', 'torch.utils.data._utils.collate', 'torch.utils.data._utils.signal_handling', 'torch.utils.data._utils.pin_memory', 'torchtext.data.utils', 'torchtext.data.example', 'torchtext.utils', 'requests', 'urllib3', 'urllib3.connectionpool', 'urllib3.exceptions', 'urllib3.packages', 'urllib3.packages.ssl_match_hostname', 'urllib3.packages.six', 'urllib3.packages.six.moves', 'urllib3.packages.six.moves.http_client', 'urllib3.connection', 'urllib3.util', 'urllib3.util.connection', 'urllib3.util.wait', 'urllib3.contrib', 'urllib3.contrib._appengine_environ', 'urllib3.util.request', 'urllib3.util.response', 'urllib3.util.ssl_', 'urllib3.util.timeout', 'urllib3.util.retry', 'urllib3.util.url', 'urllib3._collections', 'urllib3.request', 'urllib3.filepost', 'urllib3.fields', 'urllib3.packages.six.moves.urllib', 'urllib3.packages.six.moves.urllib.parse', 'urllib3.response', 'urllib3.util.queue', 'urllib3.poolmanager', 'chardet', 'chardet.compat', 'chardet.universaldetector', 'chardet.charsetgroupprober', 'chardet.enums', 'chardet.charsetprober', 'chardet.escprober', 'chardet.codingstatemachine', 'chardet.escsm', 'chardet.latin1prober', 'chardet.mbcsgroupprober', 'chardet.utf8prober', 'chardet.mbcssm', 'chardet.sjisprober', 'chardet.mbcharsetprober', 'chardet.chardistribution', 'chardet.euctwfreq', 'chardet.euckrfreq', 'chardet.gb2312freq', 'chardet.big5freq', 'chardet.jisfreq', 'chardet.jpcntx', 'chardet.eucjpprober', 'chardet.gb2312prober', 'chardet.euckrprober', 'chardet.cp949prober', 'chardet.big5prober', 'chardet.euctwprober', 'chardet.sbcsgroupprober', 'chardet.sbcharsetprober', 'chardet.langcyrillicmodel', 'chardet.langgreekmodel', 'chardet.langbulgarianmodel', 'chardet.langthaimodel', 'chardet.langhebrewmodel', 'chardet.hebrewprober', 'chardet.langturkishmodel', 'chardet.version', 'requests.exceptions', 'urllib3.contrib.pyopenssl', 'OpenSSL', 'OpenSSL.crypto', 'cryptography', 'cryptography.__about__', 'cryptography.x509', 'cryptography.x509.certificate_transparency', 'cryptography.x509.base', 'cryptography.utils', 'cryptography.hazmat', 'cryptography.hazmat.primitives', 'cryptography.hazmat.primitives.asymmetric', 'cryptography.hazmat.primitives.asymmetric.dsa', 'cryptography.hazmat.primitives.asymmetric.ec', 'cryptography.hazmat._oid', 'cryptography.hazmat.primitives.asymmetric.rsa', 'cryptography.exceptions', 'cryptography.hazmat.backends', 'cryptography.hazmat.backends.interfaces', 'cryptography.x509.extensions', 'ipaddress', 'asn1crypto', 'asn1crypto.version', 'asn1crypto.keys', 'asn1crypto._elliptic_curve', 'asn1crypto._int', 'asn1crypto.util', 'asn1crypto._errors', 'asn1crypto._iri', 'encodings.idna', 'stringprep', 'asn1crypto._types', 'asn1crypto._ordereddict', 'asn1crypto._ffi', 'asn1crypto._perf', 'asn1crypto._perf._big_num_ctypes', 'ctypes.util', 'asn1crypto.algos', 'asn1crypto.core', 'asn1crypto._teletex_codec', 'asn1crypto.parser', 'cryptography.hazmat.primitives.constant_time', 'cryptography.hazmat.bindings', '_cffi_backend', '_constant_time.lib', '_constant_time', 'cryptography.hazmat.bindings._constant_time', 'cryptography.hazmat.primitives.serialization', 'cryptography.hazmat.primitives.serialization.base', 'cryptography.hazmat.primitives.serialization.ssh', 'cryptography.hazmat.primitives.asymmetric.ed25519', 'cryptography.x509.general_name', 'cryptography.x509.name', 'cryptography.x509.oid', 'cryptography.hazmat.primitives.hashes', 'OpenSSL._util', 'cryptography.hazmat.bindings.openssl', 'cryptography.hazmat.bindings.openssl.binding', '_openssl.lib', '_openssl', 'cryptography.hazmat.bindings._openssl', 'cryptography.hazmat.bindings.openssl._conditional', 'OpenSSL.SSL', 'OpenSSL.version', 'cryptography.hazmat.backends.openssl', 'cryptography.hazmat.backends.openssl.backend', 'cryptography.hazmat.backends.openssl.aead', 'cryptography.hazmat.backends.openssl.ciphers', 'cryptography.hazmat.primitives.ciphers', 'cryptography.hazmat.primitives.ciphers.base', 'cryptography.hazmat.primitives.ciphers.modes', 'cryptography.hazmat.backends.openssl.cmac', 'cryptography.hazmat.backends.openssl.decode_asn1', 'cryptography.hazmat.backends.openssl.dh', 'cryptography.hazmat.primitives.asymmetric.dh', 'cryptography.hazmat.backends.openssl.dsa', 'cryptography.hazmat.backends.openssl.utils', 'cryptography.hazmat.primitives.asymmetric.utils', 'cryptography.hazmat.backends.openssl.ec', 'cryptography.hazmat.backends.openssl.ed25519', 'cryptography.hazmat.backends.openssl.ed448', 'cryptography.hazmat.primitives.asymmetric.ed448', 'cryptography.hazmat.backends.openssl.encode_asn1', 'cryptography.hazmat.backends.openssl.hashes', 'cryptography.hazmat.backends.openssl.hmac', 'cryptography.hazmat.backends.openssl.ocsp', 'cryptography.hazmat.backends.openssl.x509', 'cryptography.x509.ocsp', 'cryptography.hazmat.backends.openssl.poly1305', 'cryptography.hazmat.backends.openssl.rsa', 'cryptography.hazmat.primitives.asymmetric.padding', 'cryptography.hazmat.backends.openssl.x25519', 'cryptography.hazmat.primitives.asymmetric.x25519', 'cryptography.hazmat.backends.openssl.x448', 'cryptography.hazmat.primitives.asymmetric.x448', 'cryptography.hazmat.primitives.ciphers.algorithms', 'cryptography.hazmat.primitives.kdf', 'cryptography.hazmat.primitives.kdf.scrypt', 'urllib3.packages.backports', 'urllib3.packages.backports.makefile', 'requests.__version__', 'requests.utils', 'requests.certs', 'certifi', 'certifi.core', 'requests._internal_utils', 'requests.compat', 'http.cookiejar', 'http.cookies', 'requests.cookies', 'requests.structures', 'requests.packages', 'requests.packages.urllib3', 'requests.packages.urllib3.connectionpool', 'requests.packages.urllib3.exceptions', 'requests.packages.urllib3.packages', 'requests.packages.urllib3.packages.ssl_match_hostname', 'requests.packages.urllib3.packages.six', 'requests.packages.urllib3.packages.six.moves', 'requests.packages.urllib3.packages.six.moves.http_client', 'requests.packages.urllib3.connection', 'requests.packages.urllib3.util', 'requests.packages.urllib3.util.connection', 'requests.packages.urllib3.util.wait', 'requests.packages.urllib3.contrib', 'requests.packages.urllib3.contrib._appengine_environ', 'requests.packages.urllib3.util.request', 'requests.packages.urllib3.util.response', 'requests.packages.urllib3.util.ssl_', 'requests.packages.urllib3.util.timeout', 'requests.packages.urllib3.util.retry', 'requests.packages.urllib3.util.url', 'requests.packages.urllib3._collections', 'requests.packages.urllib3.request', 'requests.packages.urllib3.filepost', 'requests.packages.urllib3.fields', 'requests.packages.urllib3.packages.six.moves.urllib', 'requests.packages.urllib3.packages.six.moves.urllib.parse', 'requests.packages.urllib3.response', 'requests.packages.urllib3.util.queue', 'requests.packages.urllib3.poolmanager', 'requests.packages.urllib3.contrib.pyopenssl', 'requests.packages.urllib3.packages.backports', 'requests.packages.urllib3.packages.backports.makefile', 'idna', 'idna.package_data', 'idna.core', 'idna.idnadata', 'idna.intranges', 'requests.packages.idna', 'requests.packages.idna.package_data', 'requests.packages.idna.core', 'requests.packages.idna.idnadata', 'requests.packages.idna.intranges', 'requests.packages.chardet', 'requests.packages.chardet.compat', 'requests.packages.chardet.universaldetector', 'requests.packages.chardet.charsetgroupprober', 'requests.packages.chardet.enums', 'requests.packages.chardet.charsetprober', 'requests.packages.chardet.escprober', 'requests.packages.chardet.codingstatemachine', 'requests.packages.chardet.escsm', 'requests.packages.chardet.latin1prober', 'requests.packages.chardet.mbcsgroupprober', 'requests.packages.chardet.utf8prober', 'requests.packages.chardet.mbcssm', 'requests.packages.chardet.sjisprober', 'requests.packages.chardet.mbcharsetprober', 'requests.packages.chardet.chardistribution', 'requests.packages.chardet.euctwfreq', 'requests.packages.chardet.euckrfreq', 'requests.packages.chardet.gb2312freq', 'requests.packages.chardet.big5freq', 'requests.packages.chardet.jisfreq', 'requests.packages.chardet.jpcntx', 'requests.packages.chardet.eucjpprober', 'requests.packages.chardet.gb2312prober', 'requests.packages.chardet.euckrprober', 'requests.packages.chardet.cp949prober', 'requests.packages.chardet.big5prober', 'requests.packages.chardet.euctwprober', 'requests.packages.chardet.sbcsgroupprober', 'requests.packages.chardet.sbcharsetprober', 'requests.packages.chardet.langcyrillicmodel', 'requests.packages.chardet.langgreekmodel', 'requests.packages.chardet.langbulgarianmodel', 'requests.packages.chardet.langthaimodel', 'requests.packages.chardet.langhebrewmodel', 'requests.packages.chardet.hebrewprober', 'requests.packages.chardet.langturkishmodel', 'requests.packages.chardet.version', 'requests.models', 'requests.hooks', 'requests.auth', 'requests.status_codes', 'requests.api', 'requests.sessions', 'requests.adapters', 'urllib3.contrib.socks', 'socks', 'csv', '_csv', 'torchtext.data.field', 'torchtext.data.pipeline', 'torchtext.vocab', 'six.moves.urllib', 'six.moves.urllib.request', 'torchtext.data.iterator', 'torchtext.datasets', 'torchtext.datasets.language_modeling', 'torchtext.datasets.nli', 'torchtext.datasets.sst', 'torchtext.datasets.translation', 'xml.etree', 'xml.etree.ElementTree', 'xml.etree.ElementPath', 'pyexpat.errors', 'pyexpat.model', 'pyexpat', '_elementtree', 'torchtext.datasets.sequence_tagging', 'torchtext.datasets.trec', 'torchtext.datasets.imdb', 'torchtext.datasets.babi', 'ncn', 'ncn.evaluation', 'gensim', 'gensim.parsing', 'gensim.parsing.porter', 'gensim.parsing.preprocessing', 'gensim.utils', 'scipy', 'scipy._distributor_init', 'scipy.__config__', 'scipy.version', 'scipy._lib', 'scipy._lib._testutils', 'scipy._lib._version', 'scipy._lib.six', 'scipy._lib._ccallback', 'scipy._lib._ccallback_c', 'scipy.sparse', 'scipy.sparse.base', 'scipy._lib._numpy_compat', 'scipy.sparse.sputils', 'scipy.sparse.csr', 'scipy.sparse._sparsetools', 'scipy.sparse.compressed', 'scipy._lib._util', 'scipy.sparse.data', 'scipy.sparse.dia', 'scipy.sparse.csc', 'scipy.sparse.lil', 'scipy.sparse._csparsetools', 'scipy.sparse.dok', 'scipy.sparse.coo', 'scipy.sparse.bsr', 'scipy.sparse.construct', 'scipy.sparse.extract', 'scipy.sparse._matrix_io', 'scipy.sparse.csgraph', 'scipy.sparse.csgraph._laplacian', 'scipy.sparse.csgraph._shortest_path', '_cython_0_29_5', 'scipy.sparse.csgraph._validation', 'scipy.sparse.csgraph._tools', 'scipy.sparse.csgraph._traversal', 'scipy.sparse.csgraph._min_spanning_tree', 'scipy.sparse.csgraph._reordering', 'smart_open', 'smart_open.smart_open_lib', 'boto', 'boto.pyami', 'boto.pyami.config', 'boto.compat', 'boto.vendored', 'boto.vendored.six', 'boto.vendored.six.moves', 'boto.vendored.six.moves.urllib', 'boto.vendored.six.moves.queue', 'boto.vendored.six.moves.urllib.parse', 'boto.vendored.six.moves.urllib.request', 'configparser', 'boto.storage_uri', 'boto.s3', 'boto.regioninfo', 'boto.exception', 'xml.sax', 'xml.sax.xmlreader', 'xml.sax.handler', 'xml.sax._exceptions', 'boto.handler', 'boto.resultset', 'boto.s3.user', 'boto.endpoints', 'boto.vendored.regions', 'boto.vendored.regions.regions', 'boto.vendored.regions.exceptions', 'boto.s3.deletemarker', 'boto.plugin', 'logging.config', 'socketserver', 'boto3', 'boto3.session', 'botocore', 'botocore.session', 'botocore.configloader', 'botocore.compat', 'botocore.vendored', 'botocore.vendored.six', 'botocore.exceptions', 'botocore.vendored.requests', 'botocore.vendored.requests.packages', 'botocore.vendored.requests.packages.urllib3', 'botocore.vendored.requests.packages.urllib3.connectionpool', 'botocore.vendored.requests.packages.urllib3.exceptions', 'botocore.vendored.requests.packages.urllib3.packages', 'botocore.vendored.requests.packages.urllib3.packages.ssl_match_hostname', 'botocore.vendored.requests.packages.urllib3.packages.six', 'botocore.vendored.requests.packages.urllib3.packages.six.moves', 'botocore.vendored.requests.packages.urllib3.connection', 'botocore.vendored.requests.packages.urllib3.util', 'botocore.vendored.requests.packages.urllib3.util.connection', 'botocore.vendored.requests.packages.urllib3.util.request', 'botocore.vendored.requests.packages.urllib3.util.response', 'botocore.vendored.requests.packages.urllib3.util.ssl_', 'botocore.vendored.requests.packages.urllib3.util.timeout', 'botocore.vendored.requests.packages.urllib3.util.retry', 'botocore.vendored.requests.packages.urllib3.util.url', 'botocore.vendored.requests.packages.urllib3.request', 'botocore.vendored.requests.packages.urllib3.filepost', 'botocore.vendored.requests.packages.urllib3.fields', 'botocore.vendored.requests.packages.urllib3.response', 'botocore.vendored.requests.packages.urllib3._collections', 'botocore.vendored.requests.packages.urllib3.poolmanager', 'botocore.vendored.requests.packages.urllib3.contrib', 'botocore.vendored.requests.utils', 'cgi', 'botocore.vendored.requests.certs', 'botocore.vendored.requests.compat', 'botocore.vendored.requests.packages.chardet', 'botocore.vendored.requests.cookies', 'botocore.vendored.requests.structures', 'botocore.vendored.requests.exceptions', 'botocore.vendored.requests.models', 'botocore.vendored.requests.hooks', 'botocore.vendored.requests.auth', 'botocore.vendored.requests.status_codes', 'botocore.vendored.requests.api', 'botocore.vendored.requests.sessions', 'botocore.vendored.requests.adapters', 'botocore.vendored.six.moves', 'xml.etree.cElementTree', 'botocore.credentials', 'botocore.utils', 'botocore.awsrequest', 'botocore.httpsession', 'botocore.vendored.six.moves.urllib_parse', 'botocore.vendored.six.moves.urllib', 'botocore.vendored.six.moves.urllib.request', 'botocore.client', 'botocore.waiter', 'jmespath', 'jmespath.parser', 'jmespath.lexer', 'jmespath.exceptions', 'jmespath.compat', 'jmespath.ast', 'jmespath.visitor', 'jmespath.functions', 'botocore.docs', 'botocore.docs.service', 'botocore.docs.utils', 'botocore.docs.client', 'botocore.docs.method', 'botocore.docs.params', 'botocore.docs.shape', 'botocore.docs.example', 'botocore.docs.sharedexample', 'botocore.docs.waiter', 'botocore.docs.paginator', 'botocore.docs.bcdoc', 'botocore.docs.bcdoc.restdoc', 'botocore.docs.bcdoc.docstringparser', 'html.parser', '_markupbase', 'botocore.docs.bcdoc.style', 'botocore.docs.docstring', 'botocore.auth', 'botocore.hooks', 'botocore.model', 'botocore.paginate', 'botocore.args', 'botocore.serialize', 'botocore.validate', 'botocore.signers', 'botocore.config', 'botocore.endpoint', 'botocore.history', 'botocore.response', 'botocore.parsers', 'botocore.eventstream', 'botocore.discovery', 'botocore.configprovider', 'botocore.errorfactory', 'botocore.handlers', 'botocore.retryhandler', 'botocore.translate', 'botocore.loaders', 'botocore.regions', 'botocore.monitoring', 'boto3.utils', 'boto3.exceptions', 'boto3.resources', 'boto3.resources.factory', 'boto3.resources.action', 'boto3.resources.params', 'boto3.resources.response', 'boto3.resources.model', 'boto3.docs', 'boto3.docs.service', 'boto3.docs.client', 'boto3.docs.resource', 'boto3.docs.base', 'boto3.docs.action', 'boto3.docs.method', 'boto3.docs.utils', 'boto3.docs.waiter', 'boto3.docs.collection', 'boto3.docs.subresource', 'boto3.docs.attr', 'boto3.docs.docstring', 'boto3.resources.base', 'boto3.resources.collection', 'smart_open.s3', 'smart_open.bytebuffer', 'multiprocessing.pool', 'smart_open.hdfs', 'smart_open.webhdfs', 'smart_open.http', 'smart_open.ssh', 'smart_open.doctools', 'gensim.corpora', 'gensim.corpora.indexedcorpus', 'gensim.interfaces', 'gensim.matutils', 'scipy.stats', 'scipy.stats.stats', 'scipy.special', 'scipy.special.sf_error', 'scipy.special._ufuncs', 'scipy.special._ufuncs_cxx', 'scipy.special.basic', 'scipy.special.specfun', 'scipy.special.orthogonal', 'scipy.linalg', 'scipy.linalg.linalg_version', 'scipy.linalg.misc', 'scipy.linalg.blas', 'scipy.linalg._fblas', 'scipy.linalg.lapack', 'scipy.linalg._flapack', 'scipy.linalg.basic', 'scipy.linalg.flinalg', 'scipy.linalg._flinalg', 'scipy.linalg.decomp', 'scipy.linalg.decomp_svd', 'scipy.linalg._solve_toeplitz', 'scipy.linalg.decomp_lu', 'scipy.linalg._decomp_ldl', 'scipy.linalg.decomp_cholesky', 'scipy.linalg.decomp_qr', 'scipy.linalg._decomp_qz', 'scipy.linalg.decomp_schur', 'scipy.linalg._decomp_polar', 'scipy.linalg.matfuncs', 'scipy.linalg.special_matrices', 'scipy.linalg._expm_frechet', 'scipy.linalg._matfuncs_sqrtm', 'scipy.linalg._solvers', 'scipy.linalg._procrustes', 'scipy.linalg._decomp_update', 'scipy.linalg.cython_blas', 'scipy.linalg.cython_lapack', 'scipy.linalg._sketches', 'numpy.dual', 'scipy.special._comb', 'scipy.special._logsumexp', 'scipy.special.spfun_stats', 'scipy.special._ellip_harm', 'scipy.special._ellip_harm_2', 'scipy.special.lambertw', 'scipy.special._spherical_bessel', 'scipy.stats.distributions', 'scipy.stats._distn_infrastructure', 'scipy.misc', 'scipy.misc.doccer', 'scipy.misc.common', 'scipy.interpolate', 'scipy.interpolate.interpolate', 'scipy.interpolate.fitpack', 'scipy.interpolate._fitpack_impl', 'scipy.interpolate._fitpack', 'scipy.interpolate.dfitpack', 'scipy.interpolate._bsplines', 'scipy.interpolate._bspl', 'scipy.interpolate.polyint', 'scipy.interpolate._ppoly', 'scipy.interpolate.fitpack2', 'scipy.interpolate.interpnd', 'scipy.spatial', 'scipy.spatial.kdtree', 'scipy.spatial.ckdtree', 'scipy.spatial.qhull', 'scipy._lib.messagestream', 'scipy.spatial._spherical_voronoi', 'scipy.spatial._voronoi', 'scipy.spatial.distance', 'scipy.spatial._distance_wrap', 'scipy.spatial._hausdorff', 'scipy.spatial._plotutils', 'scipy._lib.decorator', 'scipy.spatial._procrustes', 'scipy.spatial.transform', 'scipy.spatial.transform.rotation', 'scipy.interpolate.rbf', 'scipy.interpolate._cubic', 'scipy.interpolate.ndgriddata', 'scipy.interpolate._pade', 'scipy.misc.pilutil', 'PIL', 'PIL._version', 'PIL.Image', 'PIL._util', 'PIL.ImageMode', 'PIL.TiffTags', 'PIL._binary', 'PIL._imaging', 'cffi', 'cffi.api', 'cffi.lock', 'cffi.error', 'cffi.model', 'PIL.ImageFilter', 'scipy.stats._distr_params', 'scipy.optimize', 'scipy.optimize.optimize', 'scipy.optimize.linesearch', 'scipy.optimize.minpack2', 'scipy.optimize._minimize', 'scipy.optimize._trustregion_dogleg', 'scipy.optimize._trustregion', 'scipy.optimize._trustregion_ncg', 'scipy.optimize._trustregion_krylov', 'scipy.optimize._trlib', 'scipy.optimize._trlib._trlib', 'scipy.optimize._trustregion_exact', 'scipy.optimize._trustregion_constr', 'scipy.optimize._trustregion_constr.minimize_trustregion_constr', 'scipy.sparse.linalg', 'scipy.sparse.linalg.isolve', 'scipy.sparse.linalg.isolve.iterative', 'scipy.sparse.linalg.isolve._iterative', 'scipy.sparse.linalg.interface', 'scipy.sparse.linalg.isolve.utils', 'scipy._lib._threadsafety', 'scipy.sparse.linalg.isolve.minres', 'scipy.sparse.linalg.isolve.lgmres', 'scipy.sparse.linalg.isolve._gcrotmk', 'scipy.sparse.linalg.isolve.lsqr', 'scipy.sparse.linalg.isolve.lsmr', 'scipy.sparse.linalg.dsolve', 'scipy.sparse.linalg.dsolve.linsolve', 'scipy.sparse.linalg.dsolve._superlu', 'scipy.sparse.linalg.dsolve._add_newdocs', 'scipy.sparse.linalg.eigen', 'scipy.sparse.linalg.eigen.arpack', 'scipy.sparse.linalg.eigen.arpack.arpack', 'scipy.sparse.linalg.eigen.arpack._arpack', 'scipy.sparse.linalg.eigen.lobpcg', 'scipy.sparse.linalg.eigen.lobpcg.lobpcg', 'scipy.sparse.linalg.matfuncs', 'scipy.sparse.linalg._onenormest', 'scipy.sparse.linalg._norm', 'scipy.sparse.linalg._expm_multiply', 'scipy.optimize._differentiable_functions', 'scipy.optimize._numdiff', 'scipy.optimize._group_columns', 'scipy.optimize._hessian_update_strategy', 'scipy.optimize._constraints', 'scipy.optimize._trustregion_constr.equality_constrained_sqp', 'scipy.optimize._trustregion_constr.projections', 'scipy.optimize._trustregion_constr.qp_subproblem', 'scipy.optimize._trustregion_constr.canonical_constraint', 'scipy.optimize._trustregion_constr.tr_interior_point', 'scipy.optimize._trustregion_constr.report', 'scipy.optimize.lbfgsb', 'scipy.optimize._lbfgsb', 'scipy.optimize.tnc', 'scipy.optimize.moduleTNC', 'scipy.optimize.cobyla', 'scipy.optimize._cobyla', 'scipy.optimize.slsqp', 'scipy.optimize._slsqp', 'scipy.optimize._root', 'scipy.optimize.minpack', 'scipy.optimize._minpack', 'scipy.optimize._lsq', 'scipy.optimize._lsq.least_squares', 'scipy.optimize._lsq.trf', 'scipy.optimize._lsq.common', 'scipy.optimize._lsq.dogbox', 'scipy.optimize._lsq.lsq_linear', 'scipy.optimize._lsq.trf_linear', 'scipy.optimize._lsq.givens_elimination', 'scipy.optimize._lsq.bvls', 'scipy.optimize._spectral', 'scipy.optimize.nonlin', 'scipy.optimize._root_scalar', 'scipy.optimize.zeros', 'scipy.optimize._zeros', 'scipy.optimize.nnls', 'scipy.optimize._nnls', 'scipy.optimize._basinhopping', 'scipy.optimize._linprog', 'scipy.optimize._linprog_ip', 'scipy.optimize._linprog_simplex', 'scipy.optimize._linprog_util', 'scipy.optimize._remove_redundancy', 'scipy.optimize._hungarian', 'scipy.optimize._differentialevolution', 'scipy.optimize._shgo', 'scipy.optimize._shgo_lib', 'scipy.optimize._shgo_lib.sobol_seq', 'scipy.optimize._shgo_lib.triangulation', 'scipy.optimize._dual_annealing', 'scipy.integrate', 'scipy.integrate.quadrature', 'scipy.integrate.odepack', 'scipy.integrate._odepack', 'scipy.integrate.quadpack', 'scipy.integrate._quadpack', 'scipy.integrate._ode', 'scipy.integrate.vode', 'scipy.integrate._dop', 'scipy.integrate.lsoda', 'scipy.integrate._bvp', 'scipy.integrate._ivp', 'scipy.integrate._ivp.ivp', 'scipy.integrate._ivp.bdf', 'scipy.integrate._ivp.common', 'scipy.integrate._ivp.base', 'scipy.integrate._ivp.radau', 'scipy.integrate._ivp.rk', 'scipy.integrate._ivp.lsoda', 'scipy.stats._constants', 'scipy.stats._continuous_distns', 'scipy.stats._stats', 'scipy.stats._tukeylambda_stats', 'scipy.stats._discrete_distns', 'scipy.stats.mstats_basic', 'scipy.stats._stats_mstats_common', 'scipy.stats._rvs_sampling', 'scipy.stats.morestats', 'scipy.stats.statlib', 'scipy.stats.contingency', 'scipy.stats._binned_statistic', 'scipy.stats.kde', 'scipy.stats.mvn', 'scipy.stats.mstats', 'scipy.stats.mstats_extras', 'scipy.stats._multivariate', 'gensim._matutils', '_cython_0_29_2', 'gensim.corpora._mmreader', 'gensim.corpora.mmcorpus', 'gensim.corpora.bleicorpus', 'gensim.corpora.svmlightcorpus', 'gensim.corpora.lowcorpus', 'gensim.corpora.dictionary', 'gensim.corpora.hashdictionary', 'gensim.corpora.wikicorpus', 'gensim.corpora.textcorpus', 'gensim.corpora.ucicorpus', 'gensim.corpora.malletcorpus', 'gensim.models', 'gensim.models.coherencemodel', 'gensim.topic_coherence', 'gensim.topic_coherence.segmentation', 'gensim.topic_coherence.probability_estimation', 'gensim.topic_coherence.text_analysis', 'gensim.models.word2vec', 'gensim.models.keyedvectors', 'gensim.models.utils_any2vec', 'gensim.models._utils_any2vec', 'gensim.similarities', 'gensim.similarities.docsim', 'gensim.similarities.termsim', 'gensim.similarities.levenshtein', 'gensim.models.deprecated', 'gensim.models.deprecated.keyedvectors', 'gensim.models.base_any2vec', 'gensim.models.word2vec_inner', 'gensim.models.word2vec_corpusfile', 'gensim.topic_coherence.direct_confirmation_measure', 'gensim.topic_coherence.indirect_confirmation_measure', 'gensim.topic_coherence.aggregation', 'gensim.models.hdpmodel', 'gensim.models.basemodel', 'gensim.models.ldamodel', 'gensim.models.callbacks', 'gensim.models.lsimodel', 'scipy.sparse.sparsetools', 'gensim.models.tfidfmodel', 'gensim.models.rpmodel', 'gensim.models.logentropy_model', 'gensim.models.doc2vec', 'gensim.models.doc2vec_inner', 'gensim.models.doc2vec_corpusfile', 'gensim.models.ldamulticore', 'gensim.models.phrases', 'gensim.models.normmodel', 'gensim.models.atmodel', 'gensim.models.ldaseqmodel', 'gensim.models.fasttext', 'gensim.models._fasttext_bin', 'gensim.models.fasttext_inner', 'gensim.models.fasttext_corpusfile', 'gensim.models.translation_matrix', 'gensim.models.wrappers', 'gensim.models.wrappers.ldamallet', 'gensim.models.wrappers.dtmmodel', 'gensim.models.wrappers.ldavowpalwabbit', 'gensim.models.wrappers.fasttext', 'gensim.models.deprecated.fasttext_wrapper', 'gensim.models.deprecated.word2vec', 'gensim.models.deprecated.old_saveload', 'gensim.models.wrappers.wordrank', 'gensim.scripts', 'gensim.scripts.glove2word2vec', 'gensim.models.wrappers.varembed', 'gensim.summarization', 'gensim.summarization.summarizer', 'gensim.summarization.pagerank_weighted', 'gensim.summarization.textcleaner', 'gensim.summarization.syntactic_unit', 'gensim.summarization.commons', 'gensim.summarization.graph', 'gensim.summarization.bm25', 'gensim.summarization.keywords', 'gensim.summarization.mz_entropy', 'ncn.core', 'spacy', 'thinc', 'thinc.about', 'thinc.neural', 'thinc.neural._classes', 'thinc.neural._classes.model', 'msgpack', 'msgpack._version', 'msgpack.exceptions', 'msgpack._cmsgpack', 'msgpack_numpy', 'thinc.neural.util', 'preshed', 'preshed.about', '_cython_0_28_4', 'preshed.maps', 'cymem', 'cymem.about', 'cymem.cymem', 'thinc.neural.train', 'thinc.neural.optimizers', '_cython_0_29_1', 'thinc.neural.ops', 'thinc.linalg', 'murmurhash', 'murmurhash.about', 'murmurhash.mrmr', 'cytoolz', '_cython_0_27_3', 'cytoolz.itertoolz', 'cytoolz.compatibility', 'cytoolz.utils', 'toolz', 'toolz.itertoolz', 'toolz.compatibility', 'toolz.utils', 'toolz.functoolz', 'toolz._signatures', 'toolz.dicttoolz', 'toolz.recipes', 'toolz.sandbox', 'toolz.sandbox.core', 'toolz.sandbox.parallel', 'cytoolz.functoolz', 'cytoolz._signatures', 'cytoolz.dicttoolz', 'cytoolz.recipes', 'cytoolz._version', 'thinc.neural.mem', 'thinc.check', 'wrapt', 'wrapt.wrappers', 'wrapt._wrappers', 'wrapt.decorators', 'wrapt.importer', 'thinc.exceptions', 'thinc.describe', 'spacy.cli', 'spacy.cli.download', 'plac', 'plac_core', 'plac_ext', 'asyncore', 'asynchat', 'spacy.cli._messages', 'spacy.cli.link', 'spacy.compat', 'ujson', 'spacy.util', 'pkg_resources', 'plistlib', 'xml.parsers', 'xml.parsers.expat', 'xml.parsers.expat.model', 'xml.parsers.expat.errors', 'pkg_resources.extern', 'pkg_resources._vendor', 'pkg_resources.extern.six', 'pkg_resources._vendor.six', 'pkg_resources.extern.six.moves', 'pkg_resources._vendor.six.moves', 'pkg_resources.py31compat', 'pkg_resources.extern.appdirs', 'pkg_resources._vendor.packaging.__about__', 'pkg_resources.extern.packaging', 'pkg_resources.extern.packaging.version', 'pkg_resources.extern.packaging._structures', 'pkg_resources.extern.packaging.specifiers', 'pkg_resources.extern.packaging._compat', 'pkg_resources.extern.packaging.requirements', 'pkg_resources.extern.pyparsing', 'pkg_resources.extern.six.moves.urllib', 'pkg_resources.extern.packaging.markers', 'sysconfig', 'regex', '_regex_core', '_regex', 'spacy.symbols', 'spacy.errors', 'spacy.about', 'spacy.cli.info', 'spacy.cli.package', 'spacy.cli.profile', 'thinc.extra', 'thinc.extra.datasets', 'thinc.extra._vendorized', 'thinc.extra._vendorized.keras_data_utils', 'six.moves.urllib.error', 'thinc.extra._vendorized.keras_generic_utils', 'thinc.compat', 'spacy.cli.train', 'spacy.attrs', 'spacy.gold', 'spacy.strings', 'spacy.morphology', 'spacy.vocab', 'spacy.lexeme', 'preshed.counter', 'spacy.tokens', 'spacy.tokens.doc', 'spacy.tokens.span', 'spacy.tokens.underscore', 'spacy.tokens.token', 'spacy.parts_of_speech', 'dill', 'dill.info', 'dill._dill', '_pyio', 'dill.settings', 'dill.source', 'dill.temp', 'dill.detect', 'dill.pointers', 'dill.objtypes', 'spacy.tokens.printers', 'spacy.tokens._retokenize', 'spacy.lemmatizer', 'spacy.vectors', 'spacy._ml', 'thinc.v2v', 'thinc.neural._classes.affine', 'thinc.neural._classes.relu', 'thinc.neural._classes.maxout', 'thinc.neural._classes.softmax', 'thinc.neural._classes.selu', 'thinc.neural._lsuv', 'thinc.i2v', 'thinc.neural._classes.hash_embed', 'thinc.neural._classes.embed', 'thinc.neural._classes.static_vectors', 'thinc.extra.load_nlp', 'thinc.t2t', 'thinc.neural._classes.convolution', 'thinc.neural._classes.attention', 'thinc.neural._classes.rnn', 'thinc.api', 'thinc.t2v', 'thinc.neural.pooling', 'thinc.misc', 'thinc.neural._classes.batchnorm', 'thinc.neural._classes.layernorm', 'thinc.neural._classes.resnet', 'thinc.linear', 'thinc.linear.linear', 'spacy.syntax', 'spacy.syntax.stateclass', 'spacy.syntax.transition_system', 'spacy.syntax.nonproj', 'spacy.displacy', 'spacy.displacy.render', 'spacy.displacy.templates', 'spacy.cli.evaluate', 'spacy.cli.convert', 'spacy.cli.converters', 'spacy.cli.converters.conllu2json', 'spacy.cli.converters.conllubio2json', 'spacy.cli.converters.iob2json', 'spacy.cli.converters.conll_ner2json', 'spacy.cli.vocab', 'spacy.cli.init_model', 'spacy.cli.validate', 'spacy.glossary', 'spacy.lang', 'spacy.lang.en', 'spacy.lang.en.tokenizer_exceptions', 'spacy.lang.en.norm_exceptions', 'spacy.lang.en.tag_map', 'spacy.lang.en.stop_words', 'spacy.lang.en.lex_attrs', 'spacy.lang.en.morph_rules', 'spacy.lang.en.lemmatizer', 'spacy.lang.en.lemmatizer.lookup', 'spacy.lang.en.lemmatizer._adjectives', 'spacy.lang.en.lemmatizer._adjectives_irreg', 'spacy.lang.en.lemmatizer._adverbs', 'spacy.lang.en.lemmatizer._adverbs_irreg', 'spacy.lang.en.lemmatizer._nouns', 'spacy.lang.en.lemmatizer._nouns_irreg', 'spacy.lang.en.lemmatizer._verbs', 'spacy.lang.en.lemmatizer._verbs_irreg', 'spacy.lang.en.lemmatizer._lemma_rules', 'spacy.lang.en.syntax_iterators', 'spacy.lang.tokenizer_exceptions', 'spacy.lang.norm_exceptions', 'spacy.language', 'spacy.tokenizer', 'spacy.pipeline', 'spacy.syntax.nn_parser', 'spacy.syntax.arc_eager', 'thinc.extra.search', 'spacy.syntax._beam_utils', 'spacy.syntax.ner', 'thinc.neural._classes.difference', 'spacy.scorer', 'spacy.lang.punctuation', 'spacy.lang.char_classes', 'spacy.lang.tag_map', 'spacy.lang.lex_attrs', 'ncn.model', 'ncn.data', 'pandas', 'pytz', 'pytz.exceptions', 'pytz.lazy', 'pytz.tzinfo', 'pytz.tzfile', 'pandas.compat', 'distutils', 'distutils.version', 'pandas.compat.chainmap', 'pandas.compat.numpy', 'pandas._libs', 'pandas._libs.tslibs', 'pandas._libs.tslibs.conversion', 'pandas._libs.tslibs.nattype', 'pandas._libs.tslibs.np_datetime', 'pandas._libs.tslibs.timedeltas', 'pandas._libs.tslibs.offsets', 'pandas._libs.tslibs.ccalendar', 'pandas._libs.tslibs.strptime', 'pandas._libs.tslibs.timezones', 'pandas._libs.tslibs.parsing', 'pandas._libs.tslibs.period', 'pandas._libs.tslibs.frequencies', 'pandas._libs.tslibs.timestamps', 'pandas._libs.tslibs.fields', 'pandas._libs.tslibs.resolution', 'pandas._libs.hashtable', 'pandas._libs.missing', 'pandas._libs.lib', 'fractions', 'pandas._libs.tslib', 'pandas.core', 'pandas.core.config_init', 'pandas.core.config', 'pandas.io', 'pandas.io.formats', 'pandas.io.formats.printing', 'pandas.core.dtypes', 'pandas.core.dtypes.inference', 'pandas.io.formats.console', 'pandas.io.formats.terminal', 'pandas.core.api', 'pandas.core.arrays', 'pandas.core.arrays.array_', 'pandas.core.dtypes.common', 'pandas._libs.algos', 'pandas.core.dtypes.dtypes', 'pandas._libs.interval', 'pandas.core.dtypes.generic', 'pandas.core.dtypes.base', 'pandas.errors', 'pandas.core.arrays.base', 'pandas.compat.numpy.function', 'pandas.util', 'pandas.util._decorators', 'pandas._libs.properties', 'pandas.core.util', 'pandas.core.util.hashing', 'pandas._libs.hashing', 'pandas.core.dtypes.cast', 'pandas.core.dtypes.missing', 'pandas.util._validators', 'pandas.core.ops', 'pandas._libs.ops', 'pandas.core.common', 'pandas.core.missing', 'pandas.core.arrays.categorical', 'pandas.core.accessor', 'pandas.core.algorithms', 'pandas.core.base', 'pandas.core.nanops', 'bottleneck', 'bottleneck.reduce', 'bottleneck.nonreduce', 'bottleneck.nonreduce_axis', 'bottleneck.move', 'bottleneck.slow', 'bottleneck.slow.reduce', 'bottleneck.slow.nonreduce', 'bottleneck.slow.nonreduce_axis', 'bottleneck.slow.move', 'bottleneck.version', 'bottleneck.benchmark', 'bottleneck.benchmark.bench', 'bottleneck.benchmark.autotimeit', 'bottleneck.benchmark.bench_detailed', 'bottleneck.tests', 'bottleneck.tests.util', 'pandas.tseries', 'pandas.tseries.offsets', 'dateutil.easter', 'pandas.core.tools', 'pandas.core.tools.datetimes', 'pandas.core.sorting', 'pandas.core.arrays.datetimes', 'pandas.core.arrays.datetimelike', 'pandas.tseries.frequencies', 'pandas.core.arrays._ranges', 'pandas.core.arrays.interval', 'pandas.util._doctools', 'pandas.core.indexes', 'pandas.core.indexes.base', 'pandas._libs.index', 'pandas._libs.join', 'pandas.core.dtypes.concat', 'pandas.core.indexes.frozen', 'pandas.core.strings', 'pandas.core.arrays.period', 'pandas.core.arrays.timedeltas', 'pandas.core.arrays.integer', 'pandas.core.tools.numeric', 'pandas.core.arrays.sparse', 'pandas._libs.sparse', 'pandas.core.arrays.numpy_', 'pandas.core.groupby', 'pandas.core.groupby.groupby', 'pandas._libs.groupby', 'pandas.core.frame', 'pandas.core.generic', 'pandas.core.index', 'pandas.core.indexes.api', 'pandas.core.indexes.category', 'pandas.core.indexes.datetimes', 'pandas.core.indexes.datetimelike', 'pandas.core.tools.timedeltas', 'pandas.core.indexes.numeric', 'pandas.core.indexes.interval', 'pandas.util._exceptions', 'pandas.core.indexes.multi', 'pandas.core.indexes.timedeltas', 'pandas.core.indexes.period', 'pandas.core.indexes.range', 'pandas.core.indexing', 'pandas._libs.indexing', 'pandas.core.internals', 'pandas.core.internals.blocks', 'pandas._libs.internals', 'pandas.core.internals.arrays', 'pandas.core.internals.managers', 'pandas.core.internals.concat', 'pandas.io.formats.format', 'pandas.io.common', 'mmap', 'pandas.core.internals.construction', 'pandas.core.series', 'pandas.core.indexes.accessors', 'pandas.plotting', 'pandas.plotting._misc', 'pandas.plotting._style', 'pandas.plotting._tools', 'pandas.plotting._core', 'pandas.plotting._compat', 'pandas.plotting._converter', 'matplotlib', 'matplotlib.cbook', 'matplotlib.cbook.deprecation', 'matplotlib.rcsetup', 'matplotlib.fontconfig_pattern', 'pyparsing', 'matplotlib.colors', 'matplotlib._color_data', 'cycler', 'matplotlib._version', 'kiwisolver']\n",
      "DEBUG:matplotlib:CACHEDIR=/home/timo/.cache/matplotlib\n",
      "DEBUG:matplotlib.font_manager:Using fontManager instance from /home/timo/.cache/matplotlib/fontlist-v310.json\n",
      "DEBUG:matplotlib.pyplot:Loaded backend module://ipykernel.pylab.backend_inline version unknown.\n",
      "DEBUG:matplotlib.pyplot:Loaded backend module://ipykernel.pylab.backend_inline version unknown.\n",
      "DEBUG:matplotlib.pyplot:Loaded backend module://ipykernel.pylab.backend_inline version unknown.\n"
     ]
    }
   ],
   "source": [
    "import torch\n",
    "from torchtext.data import BucketIterator\n",
    "from ncn.evaluation import Evaluator\n",
    "from ncn.data import get_datasets\n",
    "import matplotlib.pyplot as plt\n",
    "import matplotlib.ticker as ticker\n",
    "import numpy as np\n",
    "%matplotlib inline"
   ]
  },
  {
   "cell_type": "code",
   "execution_count": 17,
   "metadata": {},
   "outputs": [],
   "source": [
    "path_to_weights = \"/home/timo/Downloads/NCN_7_19_10.pt\"\n",
    "path_to_data = \"/home/timo/DataSets/KD_arxiv_CS/arxiv_data.csv\""
   ]
  },
  {
   "cell_type": "code",
   "execution_count": 3,
   "metadata": {},
   "outputs": [
    {
     "name": "stderr",
     "output_type": "stream",
     "text": [
      "INFO:neural_citation.data:Getting fields...\n",
      "INFO:neural_citation.data:Loading dataset...\n",
      "INFO:neural_citation.data:Building vocab...\n"
     ]
    }
   ],
   "source": [
    "data = get_datasets(path_to_data)"
   ]
  },
  {
   "cell_type": "code",
   "execution_count": 4,
   "metadata": {},
   "outputs": [],
   "source": [
    "def display_dict(d):\n",
    "    \"\"\"Display a dict nice and pretty.\"\"\"\n",
    "    for key, value in d.items():\n",
    "        print(f\"Citation rank {key}|\\t {value}\")"
   ]
  },
  {
   "cell_type": "code",
   "execution_count": 5,
   "metadata": {},
   "outputs": [],
   "source": [
    "def display_attention(title, attention):\n",
    "    \n",
    "    fig = plt.figure(figsize=(10,10))\n",
    "    ax = fig.add_subplot(111)\n",
    "    \n",
    "    attention = attention.squeeze(1).cpu().detach().numpy()\n",
    "    \n",
    "    cax = ax.matshow(attention, cmap=\"plasma\")\n",
    "   \n",
    "    ax.tick_params(labelsize=15)\n",
    "    xlabels = [\"Context TDNN 1 (f=4)\", \"Context TDNN 2 (f=4)\", \"Context TDNN 3 (f=5)\",\n",
    "              \"Citing TDNN 1 (f=1)\", \"Citing TDNN 2 (f=2)\",\n",
    "              \"Cited TDNN 1 (f=1)\", \"Cited TDNN 2 (f=2)\"\n",
    "              ]\n",
    "    ax.set_xticklabels([''] + xlabels, \n",
    "                       rotation=90)\n",
    "    # have tokenized title here\n",
    "    ax.set_yticklabels([''] + title)\n",
    "\n",
    "    ax.xaxis.set_major_locator(ticker.MultipleLocator(1))\n",
    "    ax.yaxis.set_major_locator(ticker.MultipleLocator(1))\n",
    "    fig.colorbar(cax)"
   ]
  },
  {
   "cell_type": "markdown",
   "metadata": {},
   "source": [
    "## Data: Basic statistics\n",
    "1. Removed 8260 triplets of paper data due to empty/missing files.  \n",
    "2. Removed 1 data sample throwing regex error.  \n",
    "3. Removed 161670 context samples where information was missing/could not be parsed from files.   \n",
    "* This leaves __502353 context - citation pairs__ with full information.\n",
    "* __Context vocabulary__ size after processing: __72046__.  \n",
    "* __Title vocabulary__ size after processing: __43208__.  \n",
    "* Number of __citing authors__: __28200__.  \n",
    "* Number of __cited authors__: __169236__. \n",
    "\n",
    "![Context and title length distributions](assets/title_context_distribution.jpg)"
   ]
  },
  {
   "cell_type": "markdown",
   "metadata": {},
   "source": [
    "## Data preprocessing with torchtext Fields  \n",
    "* __Tokenize and preprocess__ data strings.  \n",
    "* __Numericalize__ data.  \n",
    "* Containg __vocabularies__ built on the dataset.  \n",
    "* Provide __batch processing__ of samples.  "
   ]
  },
  {
   "cell_type": "code",
   "execution_count": 6,
   "metadata": {},
   "outputs": [],
   "source": [
    "context = \"Neural networks are really cool, especially if they are convolutional.\"\n",
    "authors = \"Chuck Norris, Bruce Lee\""
   ]
  },
  {
   "cell_type": "markdown",
   "metadata": {},
   "source": [
    "### Tokenization and Preprocessing\n",
    "* Tokenization\n",
    "* Stopword removal\n",
    "* Lowercasing"
   ]
  },
  {
   "cell_type": "code",
   "execution_count": 7,
   "metadata": {},
   "outputs": [],
   "source": [
    "tokenized = data.cntxt.tokenize(context)"
   ]
  },
  {
   "cell_type": "code",
   "execution_count": 8,
   "metadata": {},
   "outputs": [
    {
     "data": {
      "text/plain": [
       "['Neural',\n",
       " 'network',\n",
       " 'be',\n",
       " 'really',\n",
       " 'cool',\n",
       " 'especially',\n",
       " 'if',\n",
       " 'they',\n",
       " 'be',\n",
       " 'convolutional']"
      ]
     },
     "execution_count": 8,
     "metadata": {},
     "output_type": "execute_result"
    }
   ],
   "source": [
    "tokenized"
   ]
  },
  {
   "cell_type": "markdown",
   "metadata": {},
   "source": [
    "### Numericalization\n",
    "* Matching words to vocabulary indices"
   ]
  },
  {
   "cell_type": "code",
   "execution_count": 9,
   "metadata": {},
   "outputs": [
    {
     "data": {
      "text/plain": [
       "tensor([[   0,    3,    0,    0, 4615,  772,    0,    0,    0,  411]])"
      ]
     },
     "execution_count": 9,
     "metadata": {},
     "output_type": "execute_result"
    }
   ],
   "source": [
    "data.cntxt.numericalize([tokenized])"
   ]
  },
  {
   "cell_type": "markdown",
   "metadata": {},
   "source": [
    "### Batch processing\n",
    "* Pad batches on the fly"
   ]
  },
  {
   "cell_type": "code",
   "execution_count": 10,
   "metadata": {},
   "outputs": [],
   "source": [
    "examples = [example.context for example in data.train.examples[:30]]"
   ]
  },
  {
   "cell_type": "code",
   "execution_count": 11,
   "metadata": {},
   "outputs": [
    {
     "data": {
      "text/plain": [
       "['recently',\n",
       " 'concept',\n",
       " 'energy',\n",
       " 'share',\n",
       " 'bss',\n",
       " 'emerge',\n",
       " 'step',\n",
       " 'self',\n",
       " 'reliance',\n",
       " 'cellular',\n",
       " 'network',\n",
       " 'term',\n",
       " 'energy']"
      ]
     },
     "execution_count": 11,
     "metadata": {},
     "output_type": "execute_result"
    }
   ],
   "source": [
    "examples[4]"
   ]
  },
  {
   "cell_type": "code",
   "execution_count": 12,
   "metadata": {},
   "outputs": [],
   "source": [
    "tensorized = data.cntxt.numericalize(data.cntxt.pad(examples))"
   ]
  },
  {
   "cell_type": "code",
   "execution_count": 13,
   "metadata": {},
   "outputs": [
    {
     "name": "stdout",
     "output_type": "stream",
     "text": [
      "Batch data type: torch.LongTensor\n",
      "Batch shape: torch.Size([30, 31])\n",
      "tensor([[  841,     9,    85,  3522,    45,    33,    57,   624,    51,   279,\n",
      "          1057,     6,   659,  1619,   544,   351,   101,   149,     1,     1,\n",
      "             1,     1,     1,     1,     1,     1,     1,     1,     1,     1,\n",
      "             1],\n",
      "        [  392,   170,    47, 18682,   751,  2496,   202, 27518,   579,    46,\n",
      "             0, 14885,   182,    86,   219,  1160,     1,     1,     1,     1,\n",
      "             1,     1,     1,     1,     1,     1,     1,     1,     1,     1,\n",
      "             1]])\n"
     ]
    }
   ],
   "source": [
    "print(f\"Batch data type: {tensorized.type()}\")\n",
    "print(f\"Batch shape: {tensorized.shape}\")\n",
    "print(tensorized[:2, :])"
   ]
  },
  {
   "cell_type": "markdown",
   "metadata": {},
   "source": [
    "## Bucketing: What it is and why do we need it?\n",
    "* Drastically reduces training time.  \n",
    "* Ensures all data in a batch is sorted according to certain key (title length in our case).  "
   ]
  },
  {
   "cell_type": "code",
   "execution_count": 14,
   "metadata": {},
   "outputs": [],
   "source": [
    "train_iterator, valid_iterator, test_iterator = BucketIterator.splits((data.train, data.valid, data.test), \n",
    "                                                                          batch_size = 32,\n",
    "                                                                          sort_within_batch = True,\n",
    "                                                                          sort_key = lambda x : len(x.title_cited))"
   ]
  },
  {
   "cell_type": "code",
   "execution_count": 15,
   "metadata": {},
   "outputs": [],
   "source": [
    "batch = next(iter(train_iterator))"
   ]
  },
  {
   "cell_type": "code",
   "execution_count": 16,
   "metadata": {},
   "outputs": [
    {
     "data": {
      "text/plain": [
       "tensor([[   2,  144,  175,  486,  444,    3],\n",
       "        [   2,  415,  369,  481,  176,    3],\n",
       "        [   2,  570,   76,  220,    6,    3],\n",
       "        [   2, 3414,   42,   97,   11,    3],\n",
       "        [   2,  190, 1006, 1114,   17,    3]])"
      ]
     },
     "execution_count": 16,
     "metadata": {},
     "output_type": "execute_result"
    }
   ],
   "source": [
    "batch.title_cited.permute(1,0)[:5]"
   ]
  },
  {
   "cell_type": "markdown",
   "metadata": {},
   "source": [
    "## Demo"
   ]
  },
  {
   "cell_type": "code",
   "execution_count": 18,
   "metadata": {},
   "outputs": [
    {
     "name": "stderr",
     "output_type": "stream",
     "text": [
      "INFO:neural_citation.evaluation:INITIALIZING NEURAL CITATION NETWORK WITH AUTHORS = True\n",
      "Running on: cpu\n",
      "Number of model parameters: 23,844,532\n",
      "Encoders: # Filters = 128, Context filter length = [4, 4, 5],  Context filter length = [1, 2]\n",
      "Embeddings: Dimension = 128, Pad index = 1, Context vocab = 30002, Author vocab = 30002, Title vocab = 30004\n",
      "Decoder: # GRU cells = 2, Hidden size = 128\n",
      "Parameters: Dropout = 0.2, Show attention = True\n",
      "-------------------------------------------------\n",
      "INFO:neural_citation.evaluation:Creating corpus in eval=False mode.\n",
      "INFO:neural_citation.evaluation:Number of samples in BM25 corpus: 1054941\n"
     ]
    }
   ],
   "source": [
    "evaluator = Evaluator(path_to_weights, data, evaluate=False, show_attention=True)"
   ]
  },
  {
   "cell_type": "code",
   "execution_count": 19,
   "metadata": {},
   "outputs": [
    {
     "name": "stderr",
     "output_type": "stream",
     "text": [
      "DEBUG:neural_citation.evaluation:Evaluation title shapes: torch.Size([24, 1028])\n",
      "DEBUG:neural_citation.ncn:x shape: torch.Size([1028, 384])\n",
      "DEBUG:neural_citation.ncn:Context encoding shape: torch.Size([3, 1028, 128])\n",
      "DEBUG:neural_citation.ncn:Forward pass uses author information.\n",
      "DEBUG:neural_citation.ncn:x shape: torch.Size([1028, 256])\n",
      "DEBUG:neural_citation.ncn:x shape: torch.Size([1028, 256])\n",
      "DEBUG:neural_citation.ncn:Citing author encoding shape: torch.Size([2, 1028, 128])\n",
      "DEBUG:neural_citation.ncn:Cited author encoding shape: torch.Size([2, 1028, 128])\n",
      "DEBUG:neural_citation.ncn:Attentions viz shape: torch.Size([24, 1028, 7])\n",
      "DEBUG:neural_citation.ncn:Title shape: torch.Size([1028])\n",
      "DEBUG:neural_citation.ncn:Hidden shape: torch.Size([1028, 128])\n",
      "DEBUG:neural_citation.ncn:Encoder output shape: torch.Size([7, 1028, 128])\n",
      "DEBUG:neural_citation.ncn:Embedded shape: torch.Size([1, 1028, 128])\n",
      "DEBUG:neural_citation.ncn:Attention Batch size: 1028\n",
      "DEBUG:neural_citation.ncn:Attention weights: 7\n",
      "DEBUG:neural_citation.ncn:Attention output shape: torch.Size([1028, 1, 7])\n",
      "DEBUG:neural_citation.ncn:Encoder outputs: torch.Size([7, 1028, 128])\n",
      "DEBUG:neural_citation.ncn:Weighted shape: torch.Size([1, 1028, 128])\n",
      "DEBUG:neural_citation.ncn:RNN input shape: torch.Size([1, 1028, 256])\n",
      "DEBUG:neural_citation.ncn:Hidden shape: torch.Size([1, 1028, 128])\n",
      "DEBUG:neural_citation.ncn:Decoder Output shape: torch.Size([1028, 128])\n",
      "DEBUG:neural_citation.ncn:Weighted shape: torch.Size([1028, 128])\n",
      "DEBUG:neural_citation.ncn:Attentions output shape: torch.Size([1028, 7])\n",
      "DEBUG:neural_citation.ncn:Title shape: torch.Size([1028])\n",
      "DEBUG:neural_citation.ncn:Hidden shape: torch.Size([1028, 128])\n",
      "DEBUG:neural_citation.ncn:Encoder output shape: torch.Size([7, 1028, 128])\n",
      "DEBUG:neural_citation.ncn:Embedded shape: torch.Size([1, 1028, 128])\n",
      "DEBUG:neural_citation.ncn:Attention Batch size: 1028\n",
      "DEBUG:neural_citation.ncn:Attention weights: 7\n",
      "DEBUG:neural_citation.ncn:Attention output shape: torch.Size([1028, 1, 7])\n",
      "DEBUG:neural_citation.ncn:Encoder outputs: torch.Size([7, 1028, 128])\n",
      "DEBUG:neural_citation.ncn:Weighted shape: torch.Size([1, 1028, 128])\n",
      "DEBUG:neural_citation.ncn:RNN input shape: torch.Size([1, 1028, 256])\n",
      "DEBUG:neural_citation.ncn:Hidden shape: torch.Size([1, 1028, 128])\n",
      "DEBUG:neural_citation.ncn:Decoder Output shape: torch.Size([1028, 128])\n",
      "DEBUG:neural_citation.ncn:Weighted shape: torch.Size([1028, 128])\n",
      "DEBUG:neural_citation.ncn:Attentions output shape: torch.Size([1028, 7])\n",
      "DEBUG:neural_citation.ncn:Title shape: torch.Size([1028])\n",
      "DEBUG:neural_citation.ncn:Hidden shape: torch.Size([1028, 128])\n",
      "DEBUG:neural_citation.ncn:Encoder output shape: torch.Size([7, 1028, 128])\n",
      "DEBUG:neural_citation.ncn:Embedded shape: torch.Size([1, 1028, 128])\n",
      "DEBUG:neural_citation.ncn:Attention Batch size: 1028\n",
      "DEBUG:neural_citation.ncn:Attention weights: 7\n",
      "DEBUG:neural_citation.ncn:Attention output shape: torch.Size([1028, 1, 7])\n",
      "DEBUG:neural_citation.ncn:Encoder outputs: torch.Size([7, 1028, 128])\n",
      "DEBUG:neural_citation.ncn:Weighted shape: torch.Size([1, 1028, 128])\n",
      "DEBUG:neural_citation.ncn:RNN input shape: torch.Size([1, 1028, 256])\n",
      "DEBUG:neural_citation.ncn:Hidden shape: torch.Size([1, 1028, 128])\n",
      "DEBUG:neural_citation.ncn:Decoder Output shape: torch.Size([1028, 128])\n",
      "DEBUG:neural_citation.ncn:Weighted shape: torch.Size([1028, 128])\n",
      "DEBUG:neural_citation.ncn:Attentions output shape: torch.Size([1028, 7])\n",
      "DEBUG:neural_citation.ncn:Title shape: torch.Size([1028])\n",
      "DEBUG:neural_citation.ncn:Hidden shape: torch.Size([1028, 128])\n",
      "DEBUG:neural_citation.ncn:Encoder output shape: torch.Size([7, 1028, 128])\n",
      "DEBUG:neural_citation.ncn:Embedded shape: torch.Size([1, 1028, 128])\n",
      "DEBUG:neural_citation.ncn:Attention Batch size: 1028\n",
      "DEBUG:neural_citation.ncn:Attention weights: 7\n",
      "DEBUG:neural_citation.ncn:Attention output shape: torch.Size([1028, 1, 7])\n",
      "DEBUG:neural_citation.ncn:Encoder outputs: torch.Size([7, 1028, 128])\n",
      "DEBUG:neural_citation.ncn:Weighted shape: torch.Size([1, 1028, 128])\n",
      "DEBUG:neural_citation.ncn:RNN input shape: torch.Size([1, 1028, 256])\n",
      "DEBUG:neural_citation.ncn:Hidden shape: torch.Size([1, 1028, 128])\n",
      "DEBUG:neural_citation.ncn:Decoder Output shape: torch.Size([1028, 128])\n",
      "DEBUG:neural_citation.ncn:Weighted shape: torch.Size([1028, 128])\n",
      "DEBUG:neural_citation.ncn:Attentions output shape: torch.Size([1028, 7])\n",
      "DEBUG:neural_citation.ncn:Title shape: torch.Size([1028])\n",
      "DEBUG:neural_citation.ncn:Hidden shape: torch.Size([1028, 128])\n",
      "DEBUG:neural_citation.ncn:Encoder output shape: torch.Size([7, 1028, 128])\n",
      "DEBUG:neural_citation.ncn:Embedded shape: torch.Size([1, 1028, 128])\n",
      "DEBUG:neural_citation.ncn:Attention Batch size: 1028\n",
      "DEBUG:neural_citation.ncn:Attention weights: 7\n",
      "DEBUG:neural_citation.ncn:Attention output shape: torch.Size([1028, 1, 7])\n",
      "DEBUG:neural_citation.ncn:Encoder outputs: torch.Size([7, 1028, 128])\n",
      "DEBUG:neural_citation.ncn:Weighted shape: torch.Size([1, 1028, 128])\n",
      "DEBUG:neural_citation.ncn:RNN input shape: torch.Size([1, 1028, 256])\n",
      "DEBUG:neural_citation.ncn:Hidden shape: torch.Size([1, 1028, 128])\n",
      "DEBUG:neural_citation.ncn:Decoder Output shape: torch.Size([1028, 128])\n",
      "DEBUG:neural_citation.ncn:Weighted shape: torch.Size([1028, 128])\n",
      "DEBUG:neural_citation.ncn:Attentions output shape: torch.Size([1028, 7])\n",
      "DEBUG:neural_citation.ncn:Title shape: torch.Size([1028])\n",
      "DEBUG:neural_citation.ncn:Hidden shape: torch.Size([1028, 128])\n",
      "DEBUG:neural_citation.ncn:Encoder output shape: torch.Size([7, 1028, 128])\n",
      "DEBUG:neural_citation.ncn:Embedded shape: torch.Size([1, 1028, 128])\n",
      "DEBUG:neural_citation.ncn:Attention Batch size: 1028\n",
      "DEBUG:neural_citation.ncn:Attention weights: 7\n",
      "DEBUG:neural_citation.ncn:Attention output shape: torch.Size([1028, 1, 7])\n",
      "DEBUG:neural_citation.ncn:Encoder outputs: torch.Size([7, 1028, 128])\n",
      "DEBUG:neural_citation.ncn:Weighted shape: torch.Size([1, 1028, 128])\n",
      "DEBUG:neural_citation.ncn:RNN input shape: torch.Size([1, 1028, 256])\n",
      "DEBUG:neural_citation.ncn:Hidden shape: torch.Size([1, 1028, 128])\n",
      "DEBUG:neural_citation.ncn:Decoder Output shape: torch.Size([1028, 128])\n",
      "DEBUG:neural_citation.ncn:Weighted shape: torch.Size([1028, 128])\n",
      "DEBUG:neural_citation.ncn:Attentions output shape: torch.Size([1028, 7])\n",
      "DEBUG:neural_citation.ncn:Title shape: torch.Size([1028])\n",
      "DEBUG:neural_citation.ncn:Hidden shape: torch.Size([1028, 128])\n",
      "DEBUG:neural_citation.ncn:Encoder output shape: torch.Size([7, 1028, 128])\n",
      "DEBUG:neural_citation.ncn:Embedded shape: torch.Size([1, 1028, 128])\n",
      "DEBUG:neural_citation.ncn:Attention Batch size: 1028\n",
      "DEBUG:neural_citation.ncn:Attention weights: 7\n",
      "DEBUG:neural_citation.ncn:Attention output shape: torch.Size([1028, 1, 7])\n",
      "DEBUG:neural_citation.ncn:Encoder outputs: torch.Size([7, 1028, 128])\n",
      "DEBUG:neural_citation.ncn:Weighted shape: torch.Size([1, 1028, 128])\n",
      "DEBUG:neural_citation.ncn:RNN input shape: torch.Size([1, 1028, 256])\n",
      "DEBUG:neural_citation.ncn:Hidden shape: torch.Size([1, 1028, 128])\n",
      "DEBUG:neural_citation.ncn:Decoder Output shape: torch.Size([1028, 128])\n",
      "DEBUG:neural_citation.ncn:Weighted shape: torch.Size([1028, 128])\n",
      "DEBUG:neural_citation.ncn:Attentions output shape: torch.Size([1028, 7])\n",
      "DEBUG:neural_citation.ncn:Title shape: torch.Size([1028])\n",
      "DEBUG:neural_citation.ncn:Hidden shape: torch.Size([1028, 128])\n",
      "DEBUG:neural_citation.ncn:Encoder output shape: torch.Size([7, 1028, 128])\n",
      "DEBUG:neural_citation.ncn:Embedded shape: torch.Size([1, 1028, 128])\n",
      "DEBUG:neural_citation.ncn:Attention Batch size: 1028\n",
      "DEBUG:neural_citation.ncn:Attention weights: 7\n",
      "DEBUG:neural_citation.ncn:Attention output shape: torch.Size([1028, 1, 7])\n",
      "DEBUG:neural_citation.ncn:Encoder outputs: torch.Size([7, 1028, 128])\n",
      "DEBUG:neural_citation.ncn:Weighted shape: torch.Size([1, 1028, 128])\n",
      "DEBUG:neural_citation.ncn:RNN input shape: torch.Size([1, 1028, 256])\n",
      "DEBUG:neural_citation.ncn:Hidden shape: torch.Size([1, 1028, 128])\n",
      "DEBUG:neural_citation.ncn:Decoder Output shape: torch.Size([1028, 128])\n",
      "DEBUG:neural_citation.ncn:Weighted shape: torch.Size([1028, 128])\n",
      "DEBUG:neural_citation.ncn:Attentions output shape: torch.Size([1028, 7])\n",
      "DEBUG:neural_citation.ncn:Title shape: torch.Size([1028])\n",
      "DEBUG:neural_citation.ncn:Hidden shape: torch.Size([1028, 128])\n",
      "DEBUG:neural_citation.ncn:Encoder output shape: torch.Size([7, 1028, 128])\n",
      "DEBUG:neural_citation.ncn:Embedded shape: torch.Size([1, 1028, 128])\n",
      "DEBUG:neural_citation.ncn:Attention Batch size: 1028\n",
      "DEBUG:neural_citation.ncn:Attention weights: 7\n",
      "DEBUG:neural_citation.ncn:Attention output shape: torch.Size([1028, 1, 7])\n",
      "DEBUG:neural_citation.ncn:Encoder outputs: torch.Size([7, 1028, 128])\n",
      "DEBUG:neural_citation.ncn:Weighted shape: torch.Size([1, 1028, 128])\n",
      "DEBUG:neural_citation.ncn:RNN input shape: torch.Size([1, 1028, 256])\n",
      "DEBUG:neural_citation.ncn:Hidden shape: torch.Size([1, 1028, 128])\n",
      "DEBUG:neural_citation.ncn:Decoder Output shape: torch.Size([1028, 128])\n",
      "DEBUG:neural_citation.ncn:Weighted shape: torch.Size([1028, 128])\n",
      "DEBUG:neural_citation.ncn:Attentions output shape: torch.Size([1028, 7])\n",
      "DEBUG:neural_citation.ncn:Title shape: torch.Size([1028])\n",
      "DEBUG:neural_citation.ncn:Hidden shape: torch.Size([1028, 128])\n",
      "DEBUG:neural_citation.ncn:Encoder output shape: torch.Size([7, 1028, 128])\n",
      "DEBUG:neural_citation.ncn:Embedded shape: torch.Size([1, 1028, 128])\n",
      "DEBUG:neural_citation.ncn:Attention Batch size: 1028\n",
      "DEBUG:neural_citation.ncn:Attention weights: 7\n",
      "DEBUG:neural_citation.ncn:Attention output shape: torch.Size([1028, 1, 7])\n",
      "DEBUG:neural_citation.ncn:Encoder outputs: torch.Size([7, 1028, 128])\n",
      "DEBUG:neural_citation.ncn:Weighted shape: torch.Size([1, 1028, 128])\n",
      "DEBUG:neural_citation.ncn:RNN input shape: torch.Size([1, 1028, 256])\n",
      "DEBUG:neural_citation.ncn:Hidden shape: torch.Size([1, 1028, 128])\n",
      "DEBUG:neural_citation.ncn:Decoder Output shape: torch.Size([1028, 128])\n",
      "DEBUG:neural_citation.ncn:Weighted shape: torch.Size([1028, 128])\n",
      "DEBUG:neural_citation.ncn:Attentions output shape: torch.Size([1028, 7])\n",
      "DEBUG:neural_citation.ncn:Title shape: torch.Size([1028])\n",
      "DEBUG:neural_citation.ncn:Hidden shape: torch.Size([1028, 128])\n",
      "DEBUG:neural_citation.ncn:Encoder output shape: torch.Size([7, 1028, 128])\n",
      "DEBUG:neural_citation.ncn:Embedded shape: torch.Size([1, 1028, 128])\n",
      "DEBUG:neural_citation.ncn:Attention Batch size: 1028\n",
      "DEBUG:neural_citation.ncn:Attention weights: 7\n",
      "DEBUG:neural_citation.ncn:Attention output shape: torch.Size([1028, 1, 7])\n",
      "DEBUG:neural_citation.ncn:Encoder outputs: torch.Size([7, 1028, 128])\n",
      "DEBUG:neural_citation.ncn:Weighted shape: torch.Size([1, 1028, 128])\n",
      "DEBUG:neural_citation.ncn:RNN input shape: torch.Size([1, 1028, 256])\n",
      "DEBUG:neural_citation.ncn:Hidden shape: torch.Size([1, 1028, 128])\n",
      "DEBUG:neural_citation.ncn:Decoder Output shape: torch.Size([1028, 128])\n",
      "DEBUG:neural_citation.ncn:Weighted shape: torch.Size([1028, 128])\n",
      "DEBUG:neural_citation.ncn:Attentions output shape: torch.Size([1028, 7])\n",
      "DEBUG:neural_citation.ncn:Title shape: torch.Size([1028])\n",
      "DEBUG:neural_citation.ncn:Hidden shape: torch.Size([1028, 128])\n",
      "DEBUG:neural_citation.ncn:Encoder output shape: torch.Size([7, 1028, 128])\n",
      "DEBUG:neural_citation.ncn:Embedded shape: torch.Size([1, 1028, 128])\n",
      "DEBUG:neural_citation.ncn:Attention Batch size: 1028\n",
      "DEBUG:neural_citation.ncn:Attention weights: 7\n",
      "DEBUG:neural_citation.ncn:Attention output shape: torch.Size([1028, 1, 7])\n",
      "DEBUG:neural_citation.ncn:Encoder outputs: torch.Size([7, 1028, 128])\n",
      "DEBUG:neural_citation.ncn:Weighted shape: torch.Size([1, 1028, 128])\n",
      "DEBUG:neural_citation.ncn:RNN input shape: torch.Size([1, 1028, 256])\n",
      "DEBUG:neural_citation.ncn:Hidden shape: torch.Size([1, 1028, 128])\n",
      "DEBUG:neural_citation.ncn:Decoder Output shape: torch.Size([1028, 128])\n",
      "DEBUG:neural_citation.ncn:Weighted shape: torch.Size([1028, 128])\n",
      "DEBUG:neural_citation.ncn:Attentions output shape: torch.Size([1028, 7])\n",
      "DEBUG:neural_citation.ncn:Title shape: torch.Size([1028])\n",
      "DEBUG:neural_citation.ncn:Hidden shape: torch.Size([1028, 128])\n",
      "DEBUG:neural_citation.ncn:Encoder output shape: torch.Size([7, 1028, 128])\n",
      "DEBUG:neural_citation.ncn:Embedded shape: torch.Size([1, 1028, 128])\n",
      "DEBUG:neural_citation.ncn:Attention Batch size: 1028\n",
      "DEBUG:neural_citation.ncn:Attention weights: 7\n",
      "DEBUG:neural_citation.ncn:Attention output shape: torch.Size([1028, 1, 7])\n",
      "DEBUG:neural_citation.ncn:Encoder outputs: torch.Size([7, 1028, 128])\n",
      "DEBUG:neural_citation.ncn:Weighted shape: torch.Size([1, 1028, 128])\n",
      "DEBUG:neural_citation.ncn:RNN input shape: torch.Size([1, 1028, 256])\n",
      "DEBUG:neural_citation.ncn:Hidden shape: torch.Size([1, 1028, 128])\n",
      "DEBUG:neural_citation.ncn:Decoder Output shape: torch.Size([1028, 128])\n",
      "DEBUG:neural_citation.ncn:Weighted shape: torch.Size([1028, 128])\n",
      "DEBUG:neural_citation.ncn:Attentions output shape: torch.Size([1028, 7])\n",
      "DEBUG:neural_citation.ncn:Title shape: torch.Size([1028])\n",
      "DEBUG:neural_citation.ncn:Hidden shape: torch.Size([1028, 128])\n",
      "DEBUG:neural_citation.ncn:Encoder output shape: torch.Size([7, 1028, 128])\n",
      "DEBUG:neural_citation.ncn:Embedded shape: torch.Size([1, 1028, 128])\n",
      "DEBUG:neural_citation.ncn:Attention Batch size: 1028\n",
      "DEBUG:neural_citation.ncn:Attention weights: 7\n",
      "DEBUG:neural_citation.ncn:Attention output shape: torch.Size([1028, 1, 7])\n",
      "DEBUG:neural_citation.ncn:Encoder outputs: torch.Size([7, 1028, 128])\n",
      "DEBUG:neural_citation.ncn:Weighted shape: torch.Size([1, 1028, 128])\n",
      "DEBUG:neural_citation.ncn:RNN input shape: torch.Size([1, 1028, 256])\n",
      "DEBUG:neural_citation.ncn:Hidden shape: torch.Size([1, 1028, 128])\n",
      "DEBUG:neural_citation.ncn:Decoder Output shape: torch.Size([1028, 128])\n",
      "DEBUG:neural_citation.ncn:Weighted shape: torch.Size([1028, 128])\n",
      "DEBUG:neural_citation.ncn:Attentions output shape: torch.Size([1028, 7])\n",
      "DEBUG:neural_citation.ncn:Title shape: torch.Size([1028])\n",
      "DEBUG:neural_citation.ncn:Hidden shape: torch.Size([1028, 128])\n",
      "DEBUG:neural_citation.ncn:Encoder output shape: torch.Size([7, 1028, 128])\n",
      "DEBUG:neural_citation.ncn:Embedded shape: torch.Size([1, 1028, 128])\n",
      "DEBUG:neural_citation.ncn:Attention Batch size: 1028\n",
      "DEBUG:neural_citation.ncn:Attention weights: 7\n",
      "DEBUG:neural_citation.ncn:Attention output shape: torch.Size([1028, 1, 7])\n",
      "DEBUG:neural_citation.ncn:Encoder outputs: torch.Size([7, 1028, 128])\n",
      "DEBUG:neural_citation.ncn:Weighted shape: torch.Size([1, 1028, 128])\n",
      "DEBUG:neural_citation.ncn:RNN input shape: torch.Size([1, 1028, 256])\n",
      "DEBUG:neural_citation.ncn:Hidden shape: torch.Size([1, 1028, 128])\n",
      "DEBUG:neural_citation.ncn:Decoder Output shape: torch.Size([1028, 128])\n",
      "DEBUG:neural_citation.ncn:Weighted shape: torch.Size([1028, 128])\n",
      "DEBUG:neural_citation.ncn:Attentions output shape: torch.Size([1028, 7])\n",
      "DEBUG:neural_citation.ncn:Title shape: torch.Size([1028])\n",
      "DEBUG:neural_citation.ncn:Hidden shape: torch.Size([1028, 128])\n",
      "DEBUG:neural_citation.ncn:Encoder output shape: torch.Size([7, 1028, 128])\n",
      "DEBUG:neural_citation.ncn:Embedded shape: torch.Size([1, 1028, 128])\n",
      "DEBUG:neural_citation.ncn:Attention Batch size: 1028\n",
      "DEBUG:neural_citation.ncn:Attention weights: 7\n",
      "DEBUG:neural_citation.ncn:Attention output shape: torch.Size([1028, 1, 7])\n",
      "DEBUG:neural_citation.ncn:Encoder outputs: torch.Size([7, 1028, 128])\n",
      "DEBUG:neural_citation.ncn:Weighted shape: torch.Size([1, 1028, 128])\n",
      "DEBUG:neural_citation.ncn:RNN input shape: torch.Size([1, 1028, 256])\n",
      "DEBUG:neural_citation.ncn:Hidden shape: torch.Size([1, 1028, 128])\n",
      "DEBUG:neural_citation.ncn:Decoder Output shape: torch.Size([1028, 128])\n",
      "DEBUG:neural_citation.ncn:Weighted shape: torch.Size([1028, 128])\n",
      "DEBUG:neural_citation.ncn:Attentions output shape: torch.Size([1028, 7])\n",
      "DEBUG:neural_citation.ncn:Title shape: torch.Size([1028])\n",
      "DEBUG:neural_citation.ncn:Hidden shape: torch.Size([1028, 128])\n",
      "DEBUG:neural_citation.ncn:Encoder output shape: torch.Size([7, 1028, 128])\n",
      "DEBUG:neural_citation.ncn:Embedded shape: torch.Size([1, 1028, 128])\n",
      "DEBUG:neural_citation.ncn:Attention Batch size: 1028\n",
      "DEBUG:neural_citation.ncn:Attention weights: 7\n",
      "DEBUG:neural_citation.ncn:Attention output shape: torch.Size([1028, 1, 7])\n",
      "DEBUG:neural_citation.ncn:Encoder outputs: torch.Size([7, 1028, 128])\n",
      "DEBUG:neural_citation.ncn:Weighted shape: torch.Size([1, 1028, 128])\n",
      "DEBUG:neural_citation.ncn:RNN input shape: torch.Size([1, 1028, 256])\n",
      "DEBUG:neural_citation.ncn:Hidden shape: torch.Size([1, 1028, 128])\n",
      "DEBUG:neural_citation.ncn:Decoder Output shape: torch.Size([1028, 128])\n",
      "DEBUG:neural_citation.ncn:Weighted shape: torch.Size([1028, 128])\n",
      "DEBUG:neural_citation.ncn:Attentions output shape: torch.Size([1028, 7])\n",
      "DEBUG:neural_citation.ncn:Title shape: torch.Size([1028])\n",
      "DEBUG:neural_citation.ncn:Hidden shape: torch.Size([1028, 128])\n",
      "DEBUG:neural_citation.ncn:Encoder output shape: torch.Size([7, 1028, 128])\n",
      "DEBUG:neural_citation.ncn:Embedded shape: torch.Size([1, 1028, 128])\n",
      "DEBUG:neural_citation.ncn:Attention Batch size: 1028\n",
      "DEBUG:neural_citation.ncn:Attention weights: 7\n",
      "DEBUG:neural_citation.ncn:Attention output shape: torch.Size([1028, 1, 7])\n",
      "DEBUG:neural_citation.ncn:Encoder outputs: torch.Size([7, 1028, 128])\n",
      "DEBUG:neural_citation.ncn:Weighted shape: torch.Size([1, 1028, 128])\n",
      "DEBUG:neural_citation.ncn:RNN input shape: torch.Size([1, 1028, 256])\n",
      "DEBUG:neural_citation.ncn:Hidden shape: torch.Size([1, 1028, 128])\n",
      "DEBUG:neural_citation.ncn:Decoder Output shape: torch.Size([1028, 128])\n",
      "DEBUG:neural_citation.ncn:Weighted shape: torch.Size([1028, 128])\n",
      "DEBUG:neural_citation.ncn:Attentions output shape: torch.Size([1028, 7])\n",
      "DEBUG:neural_citation.ncn:Title shape: torch.Size([1028])\n",
      "DEBUG:neural_citation.ncn:Hidden shape: torch.Size([1028, 128])\n",
      "DEBUG:neural_citation.ncn:Encoder output shape: torch.Size([7, 1028, 128])\n",
      "DEBUG:neural_citation.ncn:Embedded shape: torch.Size([1, 1028, 128])\n",
      "DEBUG:neural_citation.ncn:Attention Batch size: 1028\n",
      "DEBUG:neural_citation.ncn:Attention weights: 7\n",
      "DEBUG:neural_citation.ncn:Attention output shape: torch.Size([1028, 1, 7])\n",
      "DEBUG:neural_citation.ncn:Encoder outputs: torch.Size([7, 1028, 128])\n",
      "DEBUG:neural_citation.ncn:Weighted shape: torch.Size([1, 1028, 128])\n",
      "DEBUG:neural_citation.ncn:RNN input shape: torch.Size([1, 1028, 256])\n",
      "DEBUG:neural_citation.ncn:Hidden shape: torch.Size([1, 1028, 128])\n",
      "DEBUG:neural_citation.ncn:Decoder Output shape: torch.Size([1028, 128])\n",
      "DEBUG:neural_citation.ncn:Weighted shape: torch.Size([1028, 128])\n",
      "DEBUG:neural_citation.ncn:Attentions output shape: torch.Size([1028, 7])\n",
      "DEBUG:neural_citation.ncn:Title shape: torch.Size([1028])\n",
      "DEBUG:neural_citation.ncn:Hidden shape: torch.Size([1028, 128])\n",
      "DEBUG:neural_citation.ncn:Encoder output shape: torch.Size([7, 1028, 128])\n",
      "DEBUG:neural_citation.ncn:Embedded shape: torch.Size([1, 1028, 128])\n",
      "DEBUG:neural_citation.ncn:Attention Batch size: 1028\n",
      "DEBUG:neural_citation.ncn:Attention weights: 7\n",
      "DEBUG:neural_citation.ncn:Attention output shape: torch.Size([1028, 1, 7])\n",
      "DEBUG:neural_citation.ncn:Encoder outputs: torch.Size([7, 1028, 128])\n",
      "DEBUG:neural_citation.ncn:Weighted shape: torch.Size([1, 1028, 128])\n",
      "DEBUG:neural_citation.ncn:RNN input shape: torch.Size([1, 1028, 256])\n",
      "DEBUG:neural_citation.ncn:Hidden shape: torch.Size([1, 1028, 128])\n",
      "DEBUG:neural_citation.ncn:Decoder Output shape: torch.Size([1028, 128])\n",
      "DEBUG:neural_citation.ncn:Weighted shape: torch.Size([1028, 128])\n",
      "DEBUG:neural_citation.ncn:Attentions output shape: torch.Size([1028, 7])\n",
      "DEBUG:neural_citation.ncn:Title shape: torch.Size([1028])\n",
      "DEBUG:neural_citation.ncn:Hidden shape: torch.Size([1028, 128])\n",
      "DEBUG:neural_citation.ncn:Encoder output shape: torch.Size([7, 1028, 128])\n",
      "DEBUG:neural_citation.ncn:Embedded shape: torch.Size([1, 1028, 128])\n",
      "DEBUG:neural_citation.ncn:Attention Batch size: 1028\n",
      "DEBUG:neural_citation.ncn:Attention weights: 7\n",
      "DEBUG:neural_citation.ncn:Attention output shape: torch.Size([1028, 1, 7])\n",
      "DEBUG:neural_citation.ncn:Encoder outputs: torch.Size([7, 1028, 128])\n",
      "DEBUG:neural_citation.ncn:Weighted shape: torch.Size([1, 1028, 128])\n",
      "DEBUG:neural_citation.ncn:RNN input shape: torch.Size([1, 1028, 256])\n",
      "DEBUG:neural_citation.ncn:Hidden shape: torch.Size([1, 1028, 128])\n",
      "DEBUG:neural_citation.ncn:Decoder Output shape: torch.Size([1028, 128])\n",
      "DEBUG:neural_citation.ncn:Weighted shape: torch.Size([1028, 128])\n",
      "DEBUG:neural_citation.ncn:Attentions output shape: torch.Size([1028, 7])\n",
      "DEBUG:neural_citation.ncn:Title shape: torch.Size([1028])\n",
      "DEBUG:neural_citation.ncn:Hidden shape: torch.Size([1028, 128])\n",
      "DEBUG:neural_citation.ncn:Encoder output shape: torch.Size([7, 1028, 128])\n",
      "DEBUG:neural_citation.ncn:Embedded shape: torch.Size([1, 1028, 128])\n",
      "DEBUG:neural_citation.ncn:Attention Batch size: 1028\n",
      "DEBUG:neural_citation.ncn:Attention weights: 7\n",
      "DEBUG:neural_citation.ncn:Attention output shape: torch.Size([1028, 1, 7])\n",
      "DEBUG:neural_citation.ncn:Encoder outputs: torch.Size([7, 1028, 128])\n",
      "DEBUG:neural_citation.ncn:Weighted shape: torch.Size([1, 1028, 128])\n",
      "DEBUG:neural_citation.ncn:RNN input shape: torch.Size([1, 1028, 256])\n",
      "DEBUG:neural_citation.ncn:Hidden shape: torch.Size([1, 1028, 128])\n",
      "DEBUG:neural_citation.ncn:Decoder Output shape: torch.Size([1028, 128])\n",
      "DEBUG:neural_citation.ncn:Weighted shape: torch.Size([1028, 128])\n",
      "DEBUG:neural_citation.ncn:Attentions output shape: torch.Size([1028, 7])\n",
      "DEBUG:neural_citation.ncn:Title shape: torch.Size([1028])\n",
      "DEBUG:neural_citation.ncn:Hidden shape: torch.Size([1028, 128])\n",
      "DEBUG:neural_citation.ncn:Encoder output shape: torch.Size([7, 1028, 128])\n",
      "DEBUG:neural_citation.ncn:Embedded shape: torch.Size([1, 1028, 128])\n",
      "DEBUG:neural_citation.ncn:Attention Batch size: 1028\n",
      "DEBUG:neural_citation.ncn:Attention weights: 7\n",
      "DEBUG:neural_citation.ncn:Attention output shape: torch.Size([1028, 1, 7])\n",
      "DEBUG:neural_citation.ncn:Encoder outputs: torch.Size([7, 1028, 128])\n",
      "DEBUG:neural_citation.ncn:Weighted shape: torch.Size([1, 1028, 128])\n",
      "DEBUG:neural_citation.ncn:RNN input shape: torch.Size([1, 1028, 256])\n",
      "DEBUG:neural_citation.ncn:Hidden shape: torch.Size([1, 1028, 128])\n",
      "DEBUG:neural_citation.ncn:Decoder Output shape: torch.Size([1028, 128])\n",
      "DEBUG:neural_citation.ncn:Weighted shape: torch.Size([1028, 128])\n",
      "DEBUG:neural_citation.ncn:Attentions output shape: torch.Size([1028, 7])\n",
      "DEBUG:neural_citation.ncn:Model output shape: torch.Size([24, 1028, 30004])\n",
      "DEBUG:neural_citation.evaluation:Evaluation output shapes: torch.Size([1028, 30004, 23])\n",
      "DEBUG:neural_citation.evaluation:Evaluation title shapes: torch.Size([1028, 23])\n",
      "DEBUG:neural_citation.evaluation:Evaluation scores shape: torch.Size([1028])\n"
     ]
    }
   ],
   "source": [
    "recomms, a = evaluator.recommend(context, authors)"
   ]
  },
  {
   "cell_type": "code",
   "execution_count": 20,
   "metadata": {},
   "outputs": [
    {
     "name": "stdout",
     "output_type": "stream",
     "text": [
      "Citation rank 0|\t Imagenet classification with   deep convolutional neural networks\n",
      "Citation rank 1|\t Visualizing and understanding convolutional networks\n",
      "Citation rank 2|\t Very deep convolutional networks for large-scale image   recognition\n",
      "Citation rank 3|\t Caffe: Convolutional architecture for fast   feature embedding\n",
      "Citation rank 4|\t Fully convolutional networks for semantic segmentation\n"
     ]
    }
   ],
   "source": [
    "display_dict(recomms)"
   ]
  },
  {
   "cell_type": "markdown",
   "metadata": {},
   "source": [
    "## But what about attention?"
   ]
  },
  {
   "cell_type": "code",
   "execution_count": 26,
   "metadata": {},
   "outputs": [
    {
     "name": "stderr",
     "output_type": "stream",
     "text": [
      "DEBUG:matplotlib.colorbar:locator: <matplotlib.colorbar._ColorbarAutoLocator object at 0x7f7d9db93630>\n",
      "DEBUG:matplotlib.colorbar:Using auto colorbar locator on colorbar\n",
      "DEBUG:matplotlib.colorbar:locator: <matplotlib.colorbar._ColorbarAutoLocator object at 0x7f7d9db93630>\n",
      "DEBUG:matplotlib.colorbar:Setting pcolormesh\n",
      "DEBUG:matplotlib.axes._base:not adjusting title pos because a title was already placed manually: 1.050000\n",
      "DEBUG:matplotlib.axes._base:title position was updated manually, not adjusting\n",
      "DEBUG:matplotlib.axes._base:title position was updated manually, not adjusting\n",
      "DEBUG:matplotlib.axes._base:title position was updated manually, not adjusting\n",
      "DEBUG:matplotlib.axes._base:title position was updated manually, not adjusting\n",
      "DEBUG:matplotlib.axes._base:title position was updated manually, not adjusting\n",
      "DEBUG:matplotlib.axes._base:title position was updated manually, not adjusting\n"
     ]
    },
    {
     "data": {
      "image/png": "[encoded data removed]",
      "text/plain": [
       "<Figure size 720x720 with 2 Axes>"
      ]
     },
     "metadata": {
      "needs_background": "light"
     },
     "output_type": "display_data"
    }
   ],
   "source": [
    "rec = 4\n",
    "seq = data.cntxt.tokenize(recomms[rec])\n",
    "display_attention(seq, a[1:len(seq)+1, rec, :])"
   ]
  },
  {
   "cell_type": "markdown",
   "metadata": {},
   "source": [
    "## Documentation\n",
    "![Context and title length distributions](assets/Documentation.png)"
   ]
  },
  {
   "cell_type": "code",
   "execution_count": null,
   "metadata": {},
   "outputs": [],
   "source": []
  }
 ],
 "metadata": {
  "kernelspec": {
   "display_name": "Python 3",
   "language": "python",
   "name": "python3"
  },
  "language_info": {
   "codemirror_mode": {
    "name": "ipython",
    "version": 3
   },
   "file_extension": ".py",
   "mimetype": "text/x-python",
   "name": "python",
   "nbconvert_exporter": "python",
   "pygments_lexer": "ipython3",
   "version": "3.7.3"
  }
 },
 "nbformat": 4,
 "nbformat_minor": 2
}
