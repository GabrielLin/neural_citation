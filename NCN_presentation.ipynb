{
 "cells": [
  {
   "cell_type": "markdown",
   "metadata": {},
   "source": [
    "# Neural citation network for local citation recommendation"
   ]
  },
  {
   "cell_type": "code",
   "execution_count": 1,
   "metadata": {},
   "outputs": [],
   "source": [
    "import torch\n",
    "from torchtext.data import BucketIterator\n",
    "from ncn.evaluation import Evaluator\n",
    "from ncn.data import get_datasets\n",
    "import matplotlib.pyplot as plt\n",
    "import matplotlib.ticker as ticker\n",
    "import numpy as np\n",
    "%matplotlib inline"
   ]
  },
  {
   "cell_type": "code",
   "execution_count": 2,
   "metadata": {},
   "outputs": [],
   "source": [
    "path_to_weights = \"/home/timo/Downloads/ncn/model/NCN_9_4_4_128_filters.pt\"\n",
    "path_to_data = \"/home/timo/DataSets/KD_arxiv_CS/arxiv_data.csv\""
   ]
  },
  {
   "cell_type": "code",
   "execution_count": 3,
   "metadata": {},
   "outputs": [
    {
     "name": "stderr",
     "output_type": "stream",
     "text": [
      "INFO:ncn.data:Getting fields...\n",
      "INFO:ncn.data:Loading dataset...\n",
      "INFO:ncn.data:Building vocab...\n"
     ]
    }
   ],
   "source": [
    "data = data = get_datasets(path_to_data, 20000, 20000, 20000)"
   ]
  },
  {
   "cell_type": "code",
   "execution_count": 4,
   "metadata": {},
   "outputs": [],
   "source": [
    "def display_dict(d):\n",
    "    \"\"\"Display a dict nice and pretty.\"\"\"\n",
    "    for key, value in d.items():\n",
    "        print(f\"Citation rank {key}|\\t {value}\")"
   ]
  },
  {
   "cell_type": "code",
   "execution_count": 27,
   "metadata": {},
   "outputs": [],
   "source": [
    "def display_attention(title, attention):\n",
    "    \n",
    "    fig = plt.figure(figsize=(10,10))\n",
    "    ax = fig.add_subplot(111)\n",
    "    \n",
    "    attention = attention.squeeze(1).cpu().detach().numpy()\n",
    "    \n",
    "    cax = ax.matshow(attention, cmap=\"plasma\")\n",
    "   \n",
    "    ax.tick_params(labelsize=15)\n",
    "    xlabels = [\"Context TDNN 1 (f=4)\", \"Context TDNN 2 (f=4)\", \"Context TDNN 3 (f=5)\", \n",
    "               \"Context TDNN 3 (f=6)\", \"Context TDNN 3 (f=7)\",\n",
    "               \"Citing TDNN 1 (f=1)\", \"Citing TDNN 2 (f=2)\",\n",
    "               \"Cited TDNN 1 (f=1)\", \"Cited TDNN 2 (f=2)\"\n",
    "              ]\n",
    "    ax.set_xticklabels([''] + xlabels, \n",
    "                       rotation=90)\n",
    "    # have tokenized title here\n",
    "    ax.set_yticklabels([''] + title)\n",
    "\n",
    "    ax.xaxis.set_major_locator(ticker.MultipleLocator(1))\n",
    "    ax.yaxis.set_major_locator(ticker.MultipleLocator(1))\n",
    "    fig.colorbar(cax)"
   ]
  },
  {
   "cell_type": "markdown",
   "metadata": {},
   "source": [
    "# ![stats_icon](assets/Stats_icon.png) Data: Basic statistics\n",
    "* __502353 context - citation pairs__ with full information.  \n",
    "* Split of __train = 0.8, valid = 0.1, test = 0.1__.   \n",
    "* Vocab sizes: __context = title = shared authors = 30k__.  \n",
    "\n",
    "![Context and title length distributions](assets/title_context_distribution.jpg)\n",
    "\n",
    "* Max __context length__: __50__.\n",
    "* Max __title length__: __18__."
   ]
  },
  {
   "cell_type": "markdown",
   "metadata": {},
   "source": [
    "# ![field_icon](assets/Field_icon.png) Data preprocessing with torchtext Fields \n",
    "![Field](assets/Field_viz.JPG)"
   ]
  },
  {
   "cell_type": "code",
   "execution_count": 28,
   "metadata": {},
   "outputs": [],
   "source": [
    "context = \"Neural networks are really cool, especially if they are convolutional.\"\n",
    "authors = \"Chuck Norris, Bruce Lee\""
   ]
  },
  {
   "cell_type": "markdown",
   "metadata": {},
   "source": [
    "## Tokenization and Lemmatization"
   ]
  },
  {
   "cell_type": "code",
   "execution_count": 29,
   "metadata": {},
   "outputs": [],
   "source": [
    "tokenized = data.cntxt.tokenize(context)"
   ]
  },
  {
   "cell_type": "code",
   "execution_count": 30,
   "metadata": {},
   "outputs": [
    {
     "data": {
      "text/plain": [
       "['Neural',\n",
       " 'network',\n",
       " 'be',\n",
       " 'really',\n",
       " 'cool',\n",
       " 'especially',\n",
       " 'if',\n",
       " 'they',\n",
       " 'be',\n",
       " 'convolutional']"
      ]
     },
     "execution_count": 30,
     "metadata": {},
     "output_type": "execute_result"
    }
   ],
   "source": [
    "tokenized"
   ]
  },
  {
   "cell_type": "markdown",
   "metadata": {},
   "source": [
    "## Numericalization"
   ]
  },
  {
   "cell_type": "code",
   "execution_count": 31,
   "metadata": {},
   "outputs": [
    {
     "data": {
      "text/plain": [
       "tensor([[   0,    3,    0,    0, 4628,  773,    0,    0,    0,  411]])"
      ]
     },
     "execution_count": 31,
     "metadata": {},
     "output_type": "execute_result"
    }
   ],
   "source": [
    "data.cntxt.numericalize([tokenized])"
   ]
  },
  {
   "cell_type": "markdown",
   "metadata": {},
   "source": [
    "## Batch processing"
   ]
  },
  {
   "cell_type": "code",
   "execution_count": 32,
   "metadata": {},
   "outputs": [],
   "source": [
    "examples = [example.context for example in data.train.examples[:30]]"
   ]
  },
  {
   "cell_type": "code",
   "execution_count": 33,
   "metadata": {},
   "outputs": [],
   "source": [
    "tensorized = data.cntxt.numericalize(data.cntxt.pad(examples))"
   ]
  },
  {
   "cell_type": "code",
   "execution_count": 34,
   "metadata": {},
   "outputs": [
    {
     "name": "stdout",
     "output_type": "stream",
     "text": [
      "Batch data type: torch.LongTensor\n",
      "Batch shape: torch.Size([30, 52])\n",
      "tensor([[  845,     9,    88,  3533,    45,    34,    56,   620,    49,   279,\n",
      "          1050,     5,   649,  1617,   541,   352,   100,   150,     1,     1,\n",
      "             1,     1,     1,     1,     1,     1,     1,     1,     1,     1,\n",
      "             1,     1,     1,     1,     1,     1,     1,     1,     1,     1,\n",
      "             1,     1,     1,     1,     1,     1,     1,     1,     1,     1,\n",
      "             1,     1],\n",
      "        [  392,   170,    46, 18853,   725,  2502,   201,     0,   578,    44,\n",
      "             0, 15008,   181,    87,   218,  1135,     1,     1,     1,     1,\n",
      "             1,     1,     1,     1,     1,     1,     1,     1,     1,     1,\n",
      "             1,     1,     1,     1,     1,     1,     1,     1,     1,     1,\n",
      "             1,     1,     1,     1,     1,     1,     1,     1,     1,     1,\n",
      "             1,     1],\n",
      "        [ 1749,  1601,   823,  2003,   103,    92,   648,  2003,   388,   117,\n",
      "           151,  1827,  7069,   252,   550,  4069,  1839,   791,    23,    12,\n",
      "             1,     1,     1,     1,     1,     1,     1,     1,     1,     1,\n",
      "             1,     1,     1,     1,     1,     1,     1,     1,     1,     1,\n",
      "             1,     1,     1,     1,     1,     1,     1,     1,     1,     1,\n",
      "             1,     1]])\n"
     ]
    }
   ],
   "source": [
    "print(f\"Batch data type: {tensorized.type()}\")\n",
    "print(f\"Batch shape: {tensorized.shape}\")\n",
    "print(tensorized[:3, :])"
   ]
  },
  {
   "cell_type": "markdown",
   "metadata": {},
   "source": [
    "# ![bucketing_icon](assets/Bucketing_icon.png) Bucketing: What is it and why do we need it?\n",
    "![Bucketing](assets/Bucketing_viz.JPG)"
   ]
  },
  {
   "cell_type": "code",
   "execution_count": 35,
   "metadata": {},
   "outputs": [],
   "source": [
    "train_iterator, valid_iterator, test_iterator = BucketIterator.splits((data.train, data.valid, data.test), \n",
    "                                                                          batch_size = 32,\n",
    "                                                                          sort_within_batch = True,\n",
    "                                                                          sort_key = lambda x : len(x.title_cited))"
   ]
  },
  {
   "cell_type": "code",
   "execution_count": 36,
   "metadata": {},
   "outputs": [],
   "source": [
    "batch = next(iter(train_iterator))"
   ]
  },
  {
   "cell_type": "markdown",
   "metadata": {},
   "source": [
    "## Bucketed batch\n",
    "* Sequences in a batch have similar length.\n",
    "* Drastically reduces computation time.  "
   ]
  },
  {
   "cell_type": "code",
   "execution_count": 37,
   "metadata": {},
   "outputs": [
    {
     "data": {
      "text/plain": [
       "tensor([[    2,   210,   109,   846,   897,   109,  1178,   150,   350,     3],\n",
       "        [    2,    20,   113,    47,    84,    79,    85,   852,    23,     3],\n",
       "        [    2,   210,  4424, 10419,     8,   571,   359,   462,   442,     3],\n",
       "        [    2,   283,  1892,   378,   214,    29,  3586, 17109,  1614,     3],\n",
       "        [    2,   857,   912,   239,     9,    53,   184,     4,     6,     3]])"
      ]
     },
     "execution_count": 37,
     "metadata": {},
     "output_type": "execute_result"
    }
   ],
   "source": [
    "batch.title_cited.permute(1,0)[:5]"
   ]
  },
  {
   "cell_type": "markdown",
   "metadata": {},
   "source": [
    "# ![demo_icon](assets/Demo_icon.png) Demo"
   ]
  },
  {
   "cell_type": "code",
   "execution_count": 38,
   "metadata": {},
   "outputs": [
    {
     "name": "stderr",
     "output_type": "stream",
     "text": [
      "INFO:ncn.evaluation:INITIALIZING NEURAL CITATION NETWORK WITH AUTHORS = True\n",
      "Running on: cpu\n",
      "Number of model parameters: 16,728,996\n",
      "Encoders: # Filters = 128, Context filter length = [4, 4, 5, 6, 7],  Context filter length = [1, 2]\n",
      "Embeddings: Dimension = 128, Pad index = 1, Context vocab = 20002, Author vocab = 20002, Title vocab = 20004\n",
      "Decoder: # GRU cells = 2, Hidden size = 128\n",
      "Parameters: Dropout = 0.2, Show attention = True\n",
      "-------------------------------------------------\n",
      "INFO:ncn.evaluation:Creating corpus in eval=False mode.\n",
      "INFO:ncn.evaluation:Number of samples in BM25 corpus: 1205646\n"
     ]
    }
   ],
   "source": [
    "evaluator = Evaluator([4,4,5,6,7], [1,2], 128, 128, 2,  path_to_weights, data, evaluate=False, show_attention=True)"
   ]
  },
  {
   "cell_type": "markdown",
   "metadata": {},
   "source": [
    "## Generating Recommendations\n",
    "* Use BM-25 to preselect the 1028 most similar titles.  \n",
    "* Rerank those with the neural citation network.  "
   ]
  },
  {
   "cell_type": "code",
   "execution_count": 39,
   "metadata": {},
   "outputs": [],
   "source": [
    "context = \"Neural networks are really cool, especially if they are convolutional.\"\n",
    "authors = \"Chuck Norris, Bruce Lee\""
   ]
  },
  {
   "cell_type": "code",
   "execution_count": 40,
   "metadata": {},
   "outputs": [],
   "source": [
    "recomms, a = evaluator.recommend(context, authors, 10)"
   ]
  },
  {
   "cell_type": "code",
   "execution_count": 41,
   "metadata": {},
   "outputs": [
    {
     "name": "stdout",
     "output_type": "stream",
     "text": [
      "Citation rank 0|\t Imagenet classification with   deep convolutional neural networks\n",
      "Citation rank 1|\t Visualizing and understanding convolutional   networks\n",
      "Citation rank 2|\t Very deep convolutional networks for   large-scale image recognition\n",
      "Citation rank 3|\t Fully convolutional networks for   semantic segmentation\n",
      "Citation rank 4|\t ImageNetclassification with   deep convolutional neural networks\n",
      "Citation rank 5|\t Caffe: Convolutional architecture for fast   feature embedding\n",
      "Citation rank 6|\t Two-stream convolutional networks for action   recognition in videos\n",
      "Citation rank 7|\t Return of the devil   in the details: Delving deep into convolutional nets\n",
      "Citation rank 8|\t Multi-scale orderless pooling of   deep convolutional activation features\n",
      "Citation rank 9|\t U-net: Convolutional networks for   biomedical image segmentation\n"
     ]
    }
   ],
   "source": [
    "display_dict(recomms)"
   ]
  },
  {
   "cell_type": "markdown",
   "metadata": {},
   "source": [
    "# ![attention_icon](assets/Attention_icon.png) But what about attention?"
   ]
  },
  {
   "cell_type": "code",
   "execution_count": 42,
   "metadata": {},
   "outputs": [
    {
     "data": {
      "image/png": "[encoded data removed]",
      "text/plain": [
       "<Figure size 720x720 with 2 Axes>"
      ]
     },
     "metadata": {
      "needs_background": "light"
     },
     "output_type": "display_data"
    }
   ],
   "source": [
    "rec = 3\n",
    "seq = data.cntxt.tokenize(recomms[rec])\n",
    "display_attention(seq, a[1:len(seq)+1, rec, :])"
   ]
  },
  {
   "cell_type": "markdown",
   "metadata": {},
   "source": [
    "# ![result_icon](assets/Result_icon.png) Results   \n",
    "\n",
    "![Recall_at_x](assets/recall.jpg)\n",
    "\n",
    "For reference: Recall for original paper between 0.2 and 0.3. "
   ]
  },
  {
   "cell_type": "markdown",
   "metadata": {},
   "source": [
    "# ![docs_icon](assets/Docs_icon.png) Documentation\n",
    "![Docs](assets/Documentation.png)"
   ]
  }
 ],
 "metadata": {
  "kernelspec": {
   "display_name": "Python 3",
   "language": "python",
   "name": "python3"
  },
  "language_info": {
   "codemirror_mode": {
    "name": "ipython",
    "version": 3
   },
   "file_extension": ".py",
   "mimetype": "text/x-python",
   "name": "python",
   "nbconvert_exporter": "python",
   "pygments_lexer": "ipython3",
   "version": "3.7.4"
  }
 },
 "nbformat": 4,
 "nbformat_minor": 4
}
